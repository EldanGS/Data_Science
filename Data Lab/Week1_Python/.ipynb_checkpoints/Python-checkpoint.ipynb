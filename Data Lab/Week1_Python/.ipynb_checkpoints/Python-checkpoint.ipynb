{
 "cells": [
  {
   "cell_type": "markdown",
   "metadata": {},
   "source": [
    "# Yessenov DATA LAB\n",
    "### Week 1: Intro to Python"
   ]
  },
  {
   "cell_type": "code",
   "execution_count": 1,
   "metadata": {},
   "outputs": [
    {
     "name": "stdout",
     "output_type": "stream",
     "text": [
      "True\n"
     ]
    }
   ],
   "source": [
    "a = {1, 2, 3, 4, 5}\n",
    "print(all(value > 0 for value in a))"
   ]
  },
  {
   "cell_type": "markdown",
   "metadata": {},
   "source": [
    "#### input, output"
   ]
  },
  {
   "cell_type": "code",
   "execution_count": 2,
   "metadata": {},
   "outputs": [
    {
     "name": "stdout",
     "output_type": "stream",
     "text": [
      "2\n",
      "4\n",
      "Hello, Yessenov!\n"
     ]
    }
   ],
   "source": [
    "print(1 + 1)\n",
    "print(2 + 2)\n",
    "a = 5\n",
    "a = \"Hello, Yessenov!\"\n",
    "print(a)"
   ]
  },
  {
   "cell_type": "markdown",
   "metadata": {},
   "source": [
    "#### Data types, data structures"
   ]
  },
  {
   "cell_type": "code",
   "execution_count": 3,
   "metadata": {},
   "outputs": [
    {
     "name": "stdout",
     "output_type": "stream",
     "text": [
      "integer 5\n",
      "float 5.4\n",
      "string abc\n",
      "bool True\n",
      "list [1, 2, 3, 5, 6]\n",
      "tuple (1, 2, 3)\n",
      "set {2, 3, 4, 5}\n",
      "dictionary {'Eldan': 'Abdrashim', 'Daniyar': 'Mukhtarhanuly'}\n"
     ]
    }
   ],
   "source": [
    "int_value = 5 # int\n",
    "float_value = 5.4 # float\n",
    "string_value = \"abc\" # str ~ string\n",
    "bool_value = True # bool\n",
    "list_data = [1, 2, 3, 5, 6] # list\n",
    "tuple_value = (1, 2, 3) # tuple\n",
    "set_data = {2, 3, 4, 5} # set\n",
    "dict_data = {\"Eldan\":\"Abdrashim\", \"Daniyar\":\"Mukhtarhanuly\"} # dict ~ dictionary\n",
    "\n",
    "print(\"integer\", int_value)\n",
    "print(\"float\", float_value)\n",
    "print(\"string\", string_value)\n",
    "print(\"bool\", bool_value)\n",
    "print(\"list\", list_data)\n",
    "print(\"tuple\", tuple_value)\n",
    "print(\"set\", set_data)\n",
    "print(\"dictionary\", dict_data)"
   ]
  },
  {
   "cell_type": "markdown",
   "metadata": {},
   "source": [
    "#### Loops "
   ]
  },
  {
   "cell_type": "code",
   "execution_count": 4,
   "metadata": {},
   "outputs": [
    {
     "name": "stdout",
     "output_type": "stream",
     "text": [
      "[1, 1, 2, 3, 5, 8, 13, 21]\n",
      "1\n",
      "2\n",
      "21\n",
      "[1, 1, 2, 3, 5]\n",
      "[8, 13, 21]\n",
      "[3, 5]\n"
     ]
    }
   ],
   "source": [
    "array = [1, 1, 2, 3, 5, 8, 13]\n",
    "array.append(21)\n",
    "print(array) # print all data\n",
    "print(array[0]) # print first element; array[0] = 1. Array begin from zero\n",
    "print(array[2]) # print thrid element; array[2] = 2. \n",
    "print(array[-1]) # print last element; array[-1] = 21.\n",
    "print(array[:5]) # print first five elements; array[:5] = 1, 1, 2, 3, 5\n",
    "print(array[-3:]) # print last three elements; array[-3] = 5, 8, 13\n",
    "print(array[3:5]) # print elements between 3 and 5; array[3:5] = 3, 5; array[3:5] ~ [3, 5) пятый элемент массива, не включается."
   ]
  },
  {
   "cell_type": "code",
   "execution_count": null,
   "metadata": {},
   "outputs": [],
   "source": []
  }
 ],
 "metadata": {
  "kernelspec": {
   "display_name": "Python 3",
   "language": "python",
   "name": "python3"
  },
  "language_info": {
   "codemirror_mode": {
    "name": "ipython",
    "version": 3
   },
   "file_extension": ".py",
   "mimetype": "text/x-python",
   "name": "python",
   "nbconvert_exporter": "python",
   "pygments_lexer": "ipython3",
   "version": "3.6.5"
  }
 },
 "nbformat": 4,
 "nbformat_minor": 2
}
