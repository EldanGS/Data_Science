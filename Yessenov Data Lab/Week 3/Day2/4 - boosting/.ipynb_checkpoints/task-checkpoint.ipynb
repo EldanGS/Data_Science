{
 "cells": [
  {
   "cell_type": "raw",
   "metadata": {},
   "source": [
    "Download data from\n",
    "https://www.kaggle.com/c/sberbank-russian-housing-market/data\n",
    "\n",
    "- Do some EDA\n",
    "- Train XGBoost\n",
    "- Try 'hyperopt' library for parameters optimization (at least 5 parameters should be optimized)\n",
    "- Provide importance of features\n",
    "- Play with early_stopping\n",
    "- Set couple of evaluation metrics. They should be printer for each iteration during training\n",
    "- BONUS: beat baseline\n",
    "- BONUS: train ADABoost for comparison\n",
    "- BONUS: use some external data"
   ]
  }
 ],
 "metadata": {
  "kernelspec": {
   "display_name": "Python 2",
   "language": "python",
   "name": "python2"
  },
  "language_info": {
   "codemirror_mode": {
    "name": "ipython",
    "version": 2
   },
   "file_extension": ".py",
   "mimetype": "text/x-python",
   "name": "python",
   "nbconvert_exporter": "python",
   "pygments_lexer": "ipython2",
   "version": "2.7.14"
  }
 },
 "nbformat": 4,
 "nbformat_minor": 2
}
