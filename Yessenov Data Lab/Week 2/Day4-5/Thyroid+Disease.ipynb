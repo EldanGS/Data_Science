{
 "cells": [
  {
   "cell_type": "markdown",
   "metadata": {},
   "source": [
    "# Thyroid Disease classification problem"
   ]
  },
  {
   "cell_type": "code",
   "execution_count": 1,
   "metadata": {
    "collapsed": true
   },
   "outputs": [],
   "source": [
    "import warnings\n",
    "import numpy as np\n",
    "import pandas as pd\n",
    "import seaborn as sns\n",
    "import matplotlib.pyplot as plt\n",
    "\n",
    "%matplotlib inline\n",
    "warnings.filterwarnings('ignore')"
   ]
  },
  {
   "cell_type": "code",
   "execution_count": 26,
   "metadata": {
    "collapsed": true
   },
   "outputs": [],
   "source": [
    "from sklearn.svm import SVC\n",
    "from sklearn.decomposition import PCA\n",
    "from sklearn.neighbors import KNeighborsClassifier\n",
    "from sklearn.linear_model import LogisticRegression\n",
    "from sklearn.model_selection import cross_val_score, GridSearchCV, train_test_split\n",
    "from sklearn.metrics import mean_squared_error, confusion_matrix, accuracy_score, classification_report, roc_curve"
   ]
  },
  {
   "cell_type": "markdown",
   "metadata": {},
   "source": [
    "### Import data considering gaps (empty spaces)"
   ]
  },
  {
   "cell_type": "code",
   "execution_count": 3,
   "metadata": {
    "collapsed": true
   },
   "outputs": [],
   "source": [
    "df = pd.read_csv(\"thyroid.csv\", sep =', ')"
   ]
  },
  {
   "cell_type": "code",
   "execution_count": 4,
   "metadata": {},
   "outputs": [
    {
     "data": {
      "text/plain": [
       "<matplotlib.axes._subplots.AxesSubplot at 0x114bdb2b0>"
      ]
     },
     "execution_count": 4,
     "metadata": {},
     "output_type": "execute_result"
    },
    {
     "data": {
      "image/png": "[encoded data removed]",
      "text/plain": [
       "<matplotlib.figure.Figure at 0x114792b00>"
      ]
     },
     "metadata": {},
     "output_type": "display_data"
    }
   ],
   "source": [
    "'''\n",
    "Three classes are not well-balanced, so that prediction \n",
    "could be not relevant for classes where overall amount is less(1,2 classes) \n",
    "'''\n",
    "pd.value_counts(df['Class']).plot.bar()"
   ]
  },
  {
   "cell_type": "code",
   "execution_count": 5,
   "metadata": {
    "collapsed": true
   },
   "outputs": [],
   "source": [
    "X = df.drop(\"Class\", axis=1)\n",
    "y = df[\"Class\"]"
   ]
  },
  {
   "cell_type": "code",
   "execution_count": 6,
   "metadata": {
    "collapsed": true
   },
   "outputs": [],
   "source": [
    "X_train, X_test, y_train, y_test = train_test_split(X, y, test_size=0.25)"
   ]
  },
  {
   "cell_type": "markdown",
   "metadata": {},
   "source": [
    "### Trying to fit data into simplest Logistic Regression"
   ]
  },
  {
   "cell_type": "code",
   "execution_count": 7,
   "metadata": {
    "collapsed": true
   },
   "outputs": [],
   "source": [
    "logreg = LogisticRegression()\n",
    "results = logreg.fit(X_train, y_train).predict(X_test)"
   ]
  },
  {
   "cell_type": "code",
   "execution_count": 8,
   "metadata": {},
   "outputs": [
    {
     "data": {
      "text/plain": [
       "0.9238888888888889"
      ]
     },
     "execution_count": 8,
     "metadata": {},
     "output_type": "execute_result"
    }
   ],
   "source": [
    "accuracy_score(results, y_test)"
   ]
  },
  {
   "cell_type": "code",
   "execution_count": 9,
   "metadata": {},
   "outputs": [
    {
     "data": {
      "text/plain": [
       "<matplotlib.axes._subplots.AxesSubplot at 0x114b9e470>"
      ]
     },
     "execution_count": 9,
     "metadata": {},
     "output_type": "execute_result"
    },
    {
     "data": {
      "image/png": "[encoded data removed]",
      "text/plain": [
       "<matplotlib.figure.Figure at 0x114bfce80>"
      ]
     },
     "metadata": {},
     "output_type": "display_data"
    }
   ],
   "source": [
    "sns.heatmap(confusion_matrix(results, y_test), cmap=\"Blues\", annot=True)"
   ]
  },
  {
   "cell_type": "markdown",
   "metadata": {},
   "source": [
    "But here we see that Confusion matrix diagonal value is relevant only for 3rd class, so that we should balance our target."
   ]
  },
  {
   "cell_type": "code",
   "execution_count": 10,
   "metadata": {
    "collapsed": true
   },
   "outputs": [],
   "source": [
    "def pca(n_components, X_train, X_test, whiten=True):\n",
    "    pca = PCA(n_components=n_components, whiten=whiten).fit(X_train)\n",
    "    return pca.transform(X_train), pca.transform(X_test)"
   ]
  },
  {
   "cell_type": "code",
   "execution_count": 11,
   "metadata": {
    "collapsed": true
   },
   "outputs": [],
   "source": [
    "def best_pca(b, e, coef, X_train, X_test, y_train, y_test):\n",
    "    n_range, n_scores = [], [] \n",
    "    \n",
    "    for i in range(b, e+1):\n",
    "        n_range.append(i)\n",
    "        X_train_pca, X_test_pca = pca(i, X_train, X_test)\n",
    "        n_scores.append(knn(best_k, X_train_pca, X_test_pca, y_train, y_test, silence=True)[1])\n",
    "        \n",
    "    best_n_i = [i for i, j in enumerate(n_scores) if j == max(n_scores)][0]\n",
    "    return n_range[best_n_i]"
   ]
  },
  {
   "cell_type": "code",
   "execution_count": 12,
   "metadata": {
    "collapsed": true
   },
   "outputs": [],
   "source": [
    "def knn(k, X_train, X_test, y_train, y_test, silence=False):\n",
    "    knn = KNeighborsClassifier(n_neighbors=k)\n",
    "    knn.fit(X_train, y_train)\n",
    "    y_pred = knn.predict(X_test)\n",
    "    accuracy = accuracy_score(y_test, y_pred)\n",
    "    if not silence:\n",
    "        print(\"\\nkNN accuracy: {:.3f}\".format(accuracy))\n",
    "        print(\"Number of correct preds: {} / {}\".format(np.sum(y_pred == y_test), len(y_test)))\n",
    "    return y_pred, accuracy"
   ]
  },
  {
   "cell_type": "code",
   "execution_count": 13,
   "metadata": {
    "collapsed": true
   },
   "outputs": [],
   "source": [
    "def svc(X_train, X_test, y_train, y_test):\n",
    "    C_range = 10. ** np.arange(3, 7)\n",
    "    gamma_range = 10. ** np.arange(-6, -1)\n",
    "    param_grid = dict(gamma=gamma_range, C=C_range)\n",
    "    clf = GridSearchCV(SVC(kernel='rbf', class_weight='balanced'), param_grid).fit(X_train, y_train)\n",
    "    y_pred = clf.predict(X_test_pca)\n",
    "    accuracy = accuracy_score(y_test, y_pred)\n",
    "    print(\"SVC accuracy: {:.3f}\".format(accuracy))\n",
    "    print(\"Number of correct preds: {} / {}\".format(np.sum(y_pred == y_test), len(y_test)))\n",
    "    return y_pred, accuracy"
   ]
  },
  {
   "cell_type": "markdown",
   "metadata": {},
   "source": [
    "### Finding best k for kNN classifier"
   ]
  },
  {
   "cell_type": "code",
   "execution_count": 14,
   "metadata": {},
   "outputs": [
    {
     "name": "stdout",
     "output_type": "stream",
     "text": [
      "\n",
      "kNN accuracy: 0.931\n",
      "Number of correct preds: 1676 / 1800\n",
      "\n",
      "kNN accuracy: 0.940\n",
      "Number of correct preds: 1692 / 1800\n",
      "\n",
      "kNN accuracy: 0.940\n",
      "Number of correct preds: 1692 / 1800\n",
      "\n",
      "kNN accuracy: 0.938\n",
      "Number of correct preds: 1689 / 1800\n",
      "\n",
      "kNN accuracy: 0.937\n",
      "Number of correct preds: 1687 / 1800\n",
      "Best k for kNN: 3\n"
     ]
    },
    {
     "data": {
      "image/png": "[encoded data removed]",
      "text/plain": [
       "<matplotlib.figure.Figure at 0x114ab0be0>"
      ]
     },
     "metadata": {},
     "output_type": "display_data"
    }
   ],
   "source": [
    "'''\n",
    "Take the range of k-number for kNN\n",
    "'''\n",
    "k_range = range(1, 11, 2)\n",
    "\n",
    "scores = [knn(k, X_train, X_test, y_train, y_test)[1] for k in k_range]\n",
    "best_k = [k_range[i] for i, j in enumerate(scores) if j == max(scores)][0]\n",
    "\n",
    "print(\"Best k for kNN:\", best_k)\n",
    "plt.plot(k_range, scores)\n",
    "plt.xlabel(\"Value of K for KNN\")\n",
    "plt.ylabel(\"Testing accuracy\")\n",
    "plt.show()"
   ]
  },
  {
   "cell_type": "markdown",
   "metadata": {},
   "source": [
    "Here we see that kNN classifier with k=5 has good results"
   ]
  },
  {
   "cell_type": "code",
   "execution_count": 15,
   "metadata": {},
   "outputs": [
    {
     "name": "stdout",
     "output_type": "stream",
     "text": [
      "Raw kNN classification\n",
      "\n",
      "kNN accuracy: 0.940\n",
      "Number of correct preds: 1692 / 1800\n"
     ]
    },
    {
     "data": {
      "text/plain": [
       "<matplotlib.axes._subplots.AxesSubplot at 0x114a5a518>"
      ]
     },
     "execution_count": 15,
     "metadata": {},
     "output_type": "execute_result"
    },
    {
     "data": {
      "image/png": "[encoded data removed]",
      "text/plain": [
       "<matplotlib.figure.Figure at 0x114af4a20>"
      ]
     },
     "metadata": {},
     "output_type": "display_data"
    }
   ],
   "source": [
    "print(\"Raw kNN classification\")\n",
    "results = knn(best_k, X_train, X_test, y_train, y_test)[0]\n",
    "sns.heatmap(confusion_matrix(results, y_test), cmap=\"Blues\", annot=True)"
   ]
  },
  {
   "cell_type": "markdown",
   "metadata": {},
   "source": [
    "### Fitting components for PCA"
   ]
  },
  {
   "cell_type": "code",
   "execution_count": 16,
   "metadata": {},
   "outputs": [
    {
     "name": "stdout",
     "output_type": "stream",
     "text": [
      "Finding best n-component:\n",
      "\n",
      "Best n for n-components: 19\n"
     ]
    }
   ],
   "source": [
    "print(\"Finding best n-component:\")\n",
    "best_n_raw = best_pca(1, 21, 2, X_train, X_test, y_train, y_test)\n",
    "\n",
    "print(\"\\nBest n for n-components:\", best_n_raw)"
   ]
  },
  {
   "cell_type": "code",
   "execution_count": 17,
   "metadata": {},
   "outputs": [
    {
     "name": "stdout",
     "output_type": "stream",
     "text": [
      "kNN classification with whiten PCA\n",
      "\n",
      "kNN accuracy: 0.951\n",
      "Number of correct preds: 1711 / 1800\n"
     ]
    },
    {
     "data": {
      "text/plain": [
       "<matplotlib.axes._subplots.AxesSubplot at 0x1149afba8>"
      ]
     },
     "execution_count": 17,
     "metadata": {},
     "output_type": "execute_result"
    },
    {
     "data": {
      "image/png": "[encoded data removed]",
      "text/plain": [
       "<matplotlib.figure.Figure at 0x114a2f6d8>"
      ]
     },
     "metadata": {},
     "output_type": "display_data"
    }
   ],
   "source": [
    "print(\"kNN classification with whiten PCA\")\n",
    "X_train_pca, X_test_pca = pca(best_n_raw, X_train, X_test)\n",
    "results = knn(best_k, X_train_pca, X_test_pca, y_train, y_test)[0]\n",
    "sns.heatmap(confusion_matrix(results, y_test), cmap=\"Blues\", annot=True)"
   ]
  },
  {
   "cell_type": "code",
   "execution_count": 18,
   "metadata": {},
   "outputs": [
    {
     "name": "stdout",
     "output_type": "stream",
     "text": [
      "kNN classification with raw PCA\n",
      "\n",
      "kNN accuracy: 0.941\n",
      "Number of correct preds: 1693 / 1800\n"
     ]
    },
    {
     "data": {
      "text/plain": [
       "<matplotlib.axes._subplots.AxesSubplot at 0x114fb3ef0>"
      ]
     },
     "execution_count": 18,
     "metadata": {},
     "output_type": "execute_result"
    },
    {
     "data": {
      "image/png": "[encoded data removed]",
      "text/plain": [
       "<matplotlib.figure.Figure at 0x114fe2e10>"
      ]
     },
     "metadata": {},
     "output_type": "display_data"
    }
   ],
   "source": [
    "print(\"kNN classification with raw PCA\")\n",
    "X_train_pca, X_test_pca = pca(best_n_raw, X_train, X_test, whiten=False)\n",
    "results = knn(best_k, X_train_pca, X_test_pca, y_train, y_test)[0]\n",
    "sns.heatmap(confusion_matrix(results, y_test), cmap=\"Blues\", annot=True)"
   ]
  },
  {
   "cell_type": "code",
   "execution_count": 20,
   "metadata": {},
   "outputs": [
    {
     "name": "stdout",
     "output_type": "stream",
     "text": [
      "Raw SV classification\n",
      "SVC accuracy: 0.976\n",
      "Number of correct preds: 1757 / 1800\n"
     ]
    },
    {
     "data": {
      "text/plain": [
       "<matplotlib.axes._subplots.AxesSubplot at 0x115c70668>"
      ]
     },
     "execution_count": 20,
     "metadata": {},
     "output_type": "execute_result"
    },
    {
     "data": {
      "image/png": "[encoded data removed]",
      "text/plain": [
       "<matplotlib.figure.Figure at 0x1148a44a8>"
      ]
     },
     "metadata": {},
     "output_type": "display_data"
    }
   ],
   "source": [
    "print(\"Raw SV classification\")\n",
    "X_train_pca, X_test_pca = pca(best_n_raw, X_train, X_test)\n",
    "results = svc(X_train_pca, X_test_pca, y_train, y_test)[0]\n",
    "sns.heatmap(confusion_matrix(results, y_test), cmap=\"Blues\", annot=True)"
   ]
  },
  {
   "cell_type": "code",
   "execution_count": 25,
   "metadata": {},
   "outputs": [
    {
     "name": "stdout",
     "output_type": "stream",
     "text": [
      "             precision    recall  f1-score   support\n",
      "\n",
      "          1       0.87      0.77      0.82        52\n",
      "          2       0.91      0.78      0.84       109\n",
      "          3       0.98      1.00      0.99      1639\n",
      "\n",
      "avg / total       0.98      0.98      0.98      1800\n",
      "\n"
     ]
    }
   ],
   "source": [
    "print(classification_report(results, y_test))"
   ]
  }
 ],
 "metadata": {
  "kernelspec": {
   "display_name": "Python 3",
   "language": "python",
   "name": "python3"
  },
  "language_info": {
   "codemirror_mode": {
    "name": "ipython",
    "version": 3
   },
   "file_extension": ".py",
   "mimetype": "text/x-python",
   "name": "python",
   "nbconvert_exporter": "python",
   "pygments_lexer": "ipython3",
   "version": "3.6.5"
  }
 },
 "nbformat": 4,
 "nbformat_minor": 2
}
