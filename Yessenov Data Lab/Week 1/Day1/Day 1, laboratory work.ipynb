{
 "cells": [
  {
   "cell_type": "code",
   "execution_count": 17,
   "metadata": {},
   "outputs": [],
   "source": [
    "matrix = [\n",
    "    [3, 2, 4, 6, 5, 3, 2, 2, 4],\n",
    "    [5, 4, 3, 2, 3, 4, 2, 2, 9],\n",
    "    [2, 1, 1, 9, 9, 3, 1, 1, 1],\n",
    "    [3, 2, 4, 6, 5, 3, 2, 2, 4],\n",
    "    [3, 2, 4, 6, 5, 3, 2, 2, 4]\n",
    "]"
   ]
  },
  {
   "cell_type": "code",
   "execution_count": 18,
   "metadata": {},
   "outputs": [],
   "source": [
    "n, m = len(matrix), len(matrix[0])"
   ]
  },
  {
   "cell_type": "code",
   "execution_count": 25,
   "metadata": {},
   "outputs": [],
   "source": [
    "def border(x, y):\n",
    "    return (0 <= x and x < n) and (0 <= y and y < m)"
   ]
  },
  {
   "cell_type": "code",
   "execution_count": 21,
   "metadata": {},
   "outputs": [
    {
     "data": {
      "text/plain": [
       "[[3, 2, 4, 6, 5, 3, 0, 0, 4],\n",
       " [5, 4, 3, 2, 3, 4, 0, 2, 9],\n",
       " [2, 0, 1, 0, 9, 0, 0, 0, 1],\n",
       " [0, 0, 0, 0, 0, 0, 0, 0, 0],\n",
       " [3, 2, 4, 6, 5, 3, 0, 2, 4]]"
      ]
     },
     "execution_count": 21,
     "metadata": {},
     "output_type": "execute_result"
    }
   ],
   "source": [
    "dx = [1, -1, 0, 0]\n",
    "dy = [0, 0, -1, 1]\n",
    "for x in range(n):\n",
    "    for y in range(m):\n",
    "        for i in range(4):\n",
    "            nextX = x + dx[i]\n",
    "            nextY = y + dy[i]\n",
    "            if border(nextX, nextY) and matrix[nextX][nextY] == matrix[x][y]:\n",
    "                matrix[nextX][nextY] = 0\n",
    "matrix"
   ]
  },
  {
   "cell_type": "code",
   "execution_count": 22,
   "metadata": {},
   "outputs": [
    {
     "data": {
      "text/plain": [
       "[[3, 2, 4, 6, 5, 3, 0, 0, 4],\n",
       " [5, 4, 3, 2, 3, 4, 0, 2, 9],\n",
       " [2, 0, 1, 0, 9, 0, 0, 0, 1],\n",
       " [0, 0, 0, 0, 1, 0, 0, 0, 1],\n",
       " [3, 2, 4, 6, 5, 3, 0, 2, 4]]"
      ]
     },
     "execution_count": 22,
     "metadata": {},
     "output_type": "execute_result"
    }
   ],
   "source": [
    "for x in range(n):\n",
    "    for y in range(m):\n",
    "        if matrix[x][y] == 9:\n",
    "            for k in range(x, n, 1):\n",
    "                if matrix[k][y] == 0:\n",
    "                    matrix[k][y] = 1\n",
    "matrix"
   ]
  },
  {
   "cell_type": "code",
   "execution_count": 47,
   "metadata": {},
   "outputs": [],
   "source": [
    "a = [\n",
    "    [0, 0, 0, 0, 0, 0, 0, 0, 0],\n",
    "    [0, 1, 0, 0, 0, 0, 0, 1, 0],\n",
    "    [0, 0, 0, 0, 0, 0, 0, 0, 0],\n",
    "    [0, 0, 0, 0, 1, 0, 0, 0, 0],\n",
    "    [0, 0, 0, 0, 0, 0, 0, 0, 0],\n",
    "    [0, 0, 0, 0, 0, 0, 0, 0, 0],\n",
    "    [0, 1, 0, 0, 0, 0, 0, 1, 0],\n",
    "    [0, 0, 0, 0, 0, 0, 0, 0, 0]\n",
    "]"
   ]
  },
  {
   "cell_type": "code",
   "execution_count": 48,
   "metadata": {},
   "outputs": [],
   "source": [
    "n, m = len(a), len(a[0])"
   ]
  },
  {
   "cell_type": "code",
   "execution_count": 49,
   "metadata": {},
   "outputs": [],
   "source": [
    "dx = [1, -1, 0, 0]\n",
    "dy = [0, 0, 1, -1]"
   ]
  },
  {
   "cell_type": "code",
   "execution_count": 50,
   "metadata": {},
   "outputs": [
    {
     "data": {
      "text/plain": [
       "[[3, 2, 3, 4, 4, 4, 3, 2, 3],\n",
       " [2, 1, 2, 3, 3, 3, 2, 1, 2],\n",
       " [3, 2, 3, 3, 2, 3, 3, 2, 3],\n",
       " [4, 3, 3, 2, 1, 2, 3, 3, 4],\n",
       " [4, 3, 4, 3, 2, 3, 4, 3, 4],\n",
       " [3, 2, 3, 4, 3, 4, 3, 2, 3],\n",
       " [2, 1, 2, 3, 4, 3, 2, 1, 2],\n",
       " [3, 2, 3, 4, 5, 4, 3, 2, 3]]"
      ]
     },
     "execution_count": 50,
     "metadata": {},
     "output_type": "execute_result"
    }
   ],
   "source": [
    "queue = list()\n",
    "for i in range(n):\n",
    "    for j in range(m):\n",
    "        if a[i][j] == 1:\n",
    "            queue.append((i, j))\n",
    "\n",
    "while queue:\n",
    "    x = queue[0][0]\n",
    "    y = queue[0][1]\n",
    "    del queue[0]\n",
    "\n",
    "    for i in range(n):\n",
    "        for j in range(m):\n",
    "            for k in range(4):\n",
    "                nextX = x + dx[k]\n",
    "                nextY = y + dy[k]\n",
    "                \n",
    "                if border(nextX, nextY) and a[nextX][nextY] == 0:\n",
    "                    a[nextX][nextY] = a[x][y] + 1\n",
    "                    queue.append((nextX, nextY))\n",
    "a"
   ]
  },
  {
   "cell_type": "code",
   "execution_count": null,
   "metadata": {},
   "outputs": [],
   "source": []
  }
 ],
 "metadata": {
  "kernelspec": {
   "display_name": "Python 3",
   "language": "python",
   "name": "python3"
  },
  "language_info": {
   "codemirror_mode": {
    "name": "ipython",
    "version": 3
   },
   "file_extension": ".py",
   "mimetype": "text/x-python",
   "name": "python",
   "nbconvert_exporter": "python",
   "pygments_lexer": "ipython3",
   "version": "3.6.5"
  }
 },
 "nbformat": 4,
 "nbformat_minor": 2
}
