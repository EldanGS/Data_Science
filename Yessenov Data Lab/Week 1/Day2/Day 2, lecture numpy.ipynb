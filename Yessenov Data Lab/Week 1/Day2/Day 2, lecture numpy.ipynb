{
 "cells": [
  {
   "cell_type": "code",
   "execution_count": 1,
   "metadata": {},
   "outputs": [],
   "source": [
    "import numpy as np"
   ]
  },
  {
   "cell_type": "code",
   "execution_count": 2,
   "metadata": {},
   "outputs": [
    {
     "data": {
      "text/plain": [
       "(array([0., 0., 0., 0., 0., 0., 0., 0., 0., 0.]),\n",
       " array([1., 1., 1., 1., 1., 1., 1., 1., 1., 1.]))"
      ]
     },
     "execution_count": 2,
     "metadata": {},
     "output_type": "execute_result"
    }
   ],
   "source": [
    "zeros = np.zeros(10)\n",
    "ones = np.ones(10)\n",
    "zeros, ones"
   ]
  },
  {
   "cell_type": "code",
   "execution_count": 3,
   "metadata": {},
   "outputs": [],
   "source": [
    "zeros = np.zeros((5, 4))"
   ]
  },
  {
   "cell_type": "code",
   "execution_count": 4,
   "metadata": {},
   "outputs": [
    {
     "data": {
      "text/plain": [
       "array([[0., 0., 0., 0.],\n",
       "       [0., 0., 0., 0.],\n",
       "       [0., 0., 0., 0.],\n",
       "       [0., 0., 0., 0.],\n",
       "       [0., 0., 0., 0.]])"
      ]
     },
     "execution_count": 4,
     "metadata": {},
     "output_type": "execute_result"
    }
   ],
   "source": [
    "zeros"
   ]
  },
  {
   "cell_type": "code",
   "execution_count": 5,
   "metadata": {},
   "outputs": [
    {
     "data": {
      "text/plain": [
       "array([10.        , 10.4040404 , 10.80808081, 11.21212121, 11.61616162,\n",
       "       12.02020202, 12.42424242, 12.82828283, 13.23232323, 13.63636364,\n",
       "       14.04040404, 14.44444444, 14.84848485, 15.25252525, 15.65656566,\n",
       "       16.06060606, 16.46464646, 16.86868687, 17.27272727, 17.67676768,\n",
       "       18.08080808, 18.48484848, 18.88888889, 19.29292929, 19.6969697 ,\n",
       "       20.1010101 , 20.50505051, 20.90909091, 21.31313131, 21.71717172,\n",
       "       22.12121212, 22.52525253, 22.92929293, 23.33333333, 23.73737374,\n",
       "       24.14141414, 24.54545455, 24.94949495, 25.35353535, 25.75757576,\n",
       "       26.16161616, 26.56565657, 26.96969697, 27.37373737, 27.77777778,\n",
       "       28.18181818, 28.58585859, 28.98989899, 29.39393939, 29.7979798 ,\n",
       "       30.2020202 , 30.60606061, 31.01010101, 31.41414141, 31.81818182,\n",
       "       32.22222222, 32.62626263, 33.03030303, 33.43434343, 33.83838384,\n",
       "       34.24242424, 34.64646465, 35.05050505, 35.45454545, 35.85858586,\n",
       "       36.26262626, 36.66666667, 37.07070707, 37.47474747, 37.87878788,\n",
       "       38.28282828, 38.68686869, 39.09090909, 39.49494949, 39.8989899 ,\n",
       "       40.3030303 , 40.70707071, 41.11111111, 41.51515152, 41.91919192,\n",
       "       42.32323232, 42.72727273, 43.13131313, 43.53535354, 43.93939394,\n",
       "       44.34343434, 44.74747475, 45.15151515, 45.55555556, 45.95959596,\n",
       "       46.36363636, 46.76767677, 47.17171717, 47.57575758, 47.97979798,\n",
       "       48.38383838, 48.78787879, 49.19191919, 49.5959596 , 50.        ])"
      ]
     },
     "execution_count": 5,
     "metadata": {},
     "output_type": "execute_result"
    }
   ],
   "source": [
    "linspace = np.linspace(10, 50, 100)\n",
    "linspace"
   ]
  },
  {
   "cell_type": "code",
   "execution_count": 6,
   "metadata": {},
   "outputs": [
    {
     "data": {
      "text/plain": [
       "array([[1., 0., 0., 0., 0.],\n",
       "       [0., 1., 0., 0., 0.],\n",
       "       [0., 0., 1., 0., 0.],\n",
       "       [0., 0., 0., 1., 0.],\n",
       "       [0., 0., 0., 0., 1.]])"
      ]
     },
     "execution_count": 6,
     "metadata": {},
     "output_type": "execute_result"
    }
   ],
   "source": [
    "np.eye(5)"
   ]
  },
  {
   "cell_type": "code",
   "execution_count": 7,
   "metadata": {},
   "outputs": [
    {
     "data": {
      "text/plain": [
       "array([0.85710896, 0.22341211, 0.77592396, 0.94986279, 0.45270243,\n",
       "       0.31114099, 0.26455663, 0.98319368, 0.91814418, 0.94557949])"
      ]
     },
     "execution_count": 7,
     "metadata": {},
     "output_type": "execute_result"
    }
   ],
   "source": [
    "np.random.rand(10)"
   ]
  },
  {
   "cell_type": "code",
   "execution_count": 8,
   "metadata": {},
   "outputs": [
    {
     "data": {
      "text/plain": [
       "array([[0.39447892, 0.54308332, 0.61272379, 0.79745188, 0.80365372],\n",
       "       [0.09903751, 0.56308241, 0.38095281, 0.11360725, 0.42688737],\n",
       "       [0.54284485, 0.35843112, 0.73151735, 0.22654854, 0.40621897],\n",
       "       [0.43108638, 0.75010974, 0.42453148, 0.30471343, 0.59600789],\n",
       "       [0.18458139, 0.38436574, 0.91493548, 0.04087459, 0.41468957]])"
      ]
     },
     "execution_count": 8,
     "metadata": {},
     "output_type": "execute_result"
    }
   ],
   "source": [
    "np.random.rand(5, 5)"
   ]
  },
  {
   "cell_type": "code",
   "execution_count": 16,
   "metadata": {},
   "outputs": [
    {
     "data": {
      "text/plain": [
       "array([[2, 3, 7, 5, 7, 7, 5, 2, 8, 5],\n",
       "       [6, 6, 2, 6, 5, 6, 2, 7, 6, 6],\n",
       "       [1, 2, 1, 5, 1, 9, 5, 2, 2, 9],\n",
       "       [4, 3, 7, 1, 2, 2, 2, 4, 5, 7],\n",
       "       [6, 8, 2, 3, 8, 4, 1, 7, 8, 3],\n",
       "       [3, 6, 5, 2, 5, 4, 8, 4, 7, 2],\n",
       "       [5, 3, 4, 6, 2, 8, 7, 7, 9, 7],\n",
       "       [4, 6, 9, 3, 8, 7, 8, 1, 7, 7],\n",
       "       [9, 1, 2, 7, 4, 1, 2, 8, 5, 2],\n",
       "       [3, 7, 6, 4, 8, 4, 2, 4, 4, 9]])"
      ]
     },
     "execution_count": 16,
     "metadata": {},
     "output_type": "execute_result"
    }
   ],
   "source": [
    "a = np.random.randint(1, 10, (10, 10)) # 1, 10 => range random elements. (10, 10) matrix shape\n",
    "a"
   ]
  },
  {
   "cell_type": "code",
   "execution_count": 17,
   "metadata": {},
   "outputs": [],
   "source": [
    "q1 = [1, 2, 3, 4, 5, 6, 7]\n",
    "q2 = q1 # get reference\n",
    "q2[3] = 10"
   ]
  },
  {
   "cell_type": "code",
   "execution_count": 18,
   "metadata": {},
   "outputs": [
    {
     "data": {
      "text/plain": [
       "[1, 2, 3, 10, 5, 6, 7]"
      ]
     },
     "execution_count": 18,
     "metadata": {},
     "output_type": "execute_result"
    }
   ],
   "source": [
    "q1"
   ]
  },
  {
   "cell_type": "code",
   "execution_count": 19,
   "metadata": {},
   "outputs": [
    {
     "data": {
      "text/plain": [
       "[1, 2, 3, 4, 5, 6, 7]"
      ]
     },
     "execution_count": 19,
     "metadata": {},
     "output_type": "execute_result"
    }
   ],
   "source": [
    "q1 = [1, 2, 3, 4, 5, 6, 7]\n",
    "q2 = q1.copy() # get copy\n",
    "q2[3] = 10\n",
    "q1"
   ]
  },
  {
   "cell_type": "code",
   "execution_count": 20,
   "metadata": {},
   "outputs": [
    {
     "data": {
      "text/plain": [
       "array([3, 4, 5])"
      ]
     },
     "execution_count": 20,
     "metadata": {},
     "output_type": "execute_result"
    }
   ],
   "source": [
    "q1 = np.array([1, 2, 3, 4, 5, 6, 7]) # numpy array take reference of  array every time.\n",
    "q2 = q1[2:5]\n",
    "q2"
   ]
  },
  {
   "cell_type": "code",
   "execution_count": 21,
   "metadata": {},
   "outputs": [],
   "source": [
    "q2[2] = 10"
   ]
  },
  {
   "cell_type": "code",
   "execution_count": 22,
   "metadata": {},
   "outputs": [
    {
     "data": {
      "text/plain": [
       "array([ 1,  2,  3,  4, 10,  6,  7])"
      ]
     },
     "execution_count": 22,
     "metadata": {},
     "output_type": "execute_result"
    }
   ],
   "source": [
    "q1"
   ]
  },
  {
   "cell_type": "code",
   "execution_count": 23,
   "metadata": {},
   "outputs": [],
   "source": [
    "q1 = np.random.rand(5, 4)"
   ]
  },
  {
   "cell_type": "code",
   "execution_count": 24,
   "metadata": {},
   "outputs": [
    {
     "data": {
      "text/plain": [
       "array([[0.01734998, 0.91929656, 0.28615238, 0.38404369],\n",
       "       [0.74617843, 0.17005664, 0.83913539, 0.13564035],\n",
       "       [0.26657978, 0.45976534, 0.11193864, 0.82508704],\n",
       "       [0.64579715, 0.95737764, 0.80634433, 0.09520263],\n",
       "       [0.13969082, 0.36312788, 0.2987247 , 0.82868339]])"
      ]
     },
     "execution_count": 24,
     "metadata": {},
     "output_type": "execute_result"
    }
   ],
   "source": [
    "q1"
   ]
  },
  {
   "cell_type": "code",
   "execution_count": 25,
   "metadata": {},
   "outputs": [
    {
     "data": {
      "text/plain": [
       "array([[0.01734998, 0.91929656, 0.28615238, 0.38404369, 0.74617843],\n",
       "       [0.17005664, 0.83913539, 0.13564035, 0.26657978, 0.45976534],\n",
       "       [0.11193864, 0.82508704, 0.64579715, 0.95737764, 0.80634433],\n",
       "       [0.09520263, 0.13969082, 0.36312788, 0.2987247 , 0.82868339]])"
      ]
     },
     "execution_count": 25,
     "metadata": {},
     "output_type": "execute_result"
    }
   ],
   "source": [
    "q2 = q1.reshape(4, 5)\n",
    "q2"
   ]
  },
  {
   "cell_type": "code",
   "execution_count": 26,
   "metadata": {},
   "outputs": [
    {
     "ename": "ValueError",
     "evalue": "cannot reshape array of size 20 into shape (3,3)",
     "output_type": "error",
     "traceback": [
      "\u001b[0;31m---------------------------------------------------------------------------\u001b[0m",
      "\u001b[0;31mValueError\u001b[0m                                Traceback (most recent call last)",
      "\u001b[0;32m<ipython-input-26-4a367b682a02>\u001b[0m in \u001b[0;36m<module>\u001b[0;34m()\u001b[0m\n\u001b[0;32m----> 1\u001b[0;31m \u001b[0mq3\u001b[0m \u001b[0;34m=\u001b[0m \u001b[0mq1\u001b[0m\u001b[0;34m.\u001b[0m\u001b[0mreshape\u001b[0m\u001b[0;34m(\u001b[0m\u001b[0;36m3\u001b[0m\u001b[0;34m,\u001b[0m \u001b[0;36m3\u001b[0m\u001b[0;34m)\u001b[0m\u001b[0;34m\u001b[0m\u001b[0m\n\u001b[0m",
      "\u001b[0;31mValueError\u001b[0m: cannot reshape array of size 20 into shape (3,3)"
     ]
    }
   ],
   "source": [
    "q3 = q1.reshape(3, 3)"
   ]
  },
  {
   "cell_type": "code",
   "execution_count": 27,
   "metadata": {},
   "outputs": [
    {
     "data": {
      "text/plain": [
       "array([[0.01734998, 0.91929656, 0.28615238, 0.38404369, 0.74617843,\n",
       "        0.17005664, 0.83913539, 0.13564035, 0.26657978, 0.45976534],\n",
       "       [0.11193864, 0.82508704, 0.64579715, 0.95737764, 0.80634433,\n",
       "        0.09520263, 0.13969082, 0.36312788, 0.2987247 , 0.82868339]])"
      ]
     },
     "execution_count": 27,
     "metadata": {},
     "output_type": "execute_result"
    }
   ],
   "source": [
    "q3 = q1.reshape(2, 10)\n",
    "q3"
   ]
  },
  {
   "cell_type": "code",
   "execution_count": 28,
   "metadata": {},
   "outputs": [
    {
     "data": {
      "text/plain": [
       "array([0.01734998, 0.91929656, 0.28615238, 0.38404369, 0.74617843,\n",
       "       0.17005664, 0.83913539, 0.13564035, 0.26657978, 0.45976534,\n",
       "       0.11193864, 0.82508704, 0.64579715, 0.95737764, 0.80634433,\n",
       "       0.09520263, 0.13969082, 0.36312788, 0.2987247 , 0.82868339])"
      ]
     },
     "execution_count": 28,
     "metadata": {},
     "output_type": "execute_result"
    }
   ],
   "source": [
    "q4 = q1.reshape(20)\n",
    "q4"
   ]
  },
  {
   "cell_type": "code",
   "execution_count": 29,
   "metadata": {},
   "outputs": [
    {
     "data": {
      "text/plain": [
       "array([[0.01734998],\n",
       "       [0.91929656],\n",
       "       [0.28615238],\n",
       "       [0.38404369],\n",
       "       [0.74617843],\n",
       "       [0.17005664],\n",
       "       [0.83913539],\n",
       "       [0.13564035],\n",
       "       [0.26657978],\n",
       "       [0.45976534],\n",
       "       [0.11193864],\n",
       "       [0.82508704],\n",
       "       [0.64579715],\n",
       "       [0.95737764],\n",
       "       [0.80634433],\n",
       "       [0.09520263],\n",
       "       [0.13969082],\n",
       "       [0.36312788],\n",
       "       [0.2987247 ],\n",
       "       [0.82868339]])"
      ]
     },
     "execution_count": 29,
     "metadata": {},
     "output_type": "execute_result"
    }
   ],
   "source": [
    "q1.reshape(20, 1)"
   ]
  },
  {
   "cell_type": "code",
   "execution_count": 30,
   "metadata": {},
   "outputs": [
    {
     "data": {
      "text/plain": [
       "array([[0.01734998, 0.91929656],\n",
       "       [0.74617843, 0.17005664]])"
      ]
     },
     "execution_count": 30,
     "metadata": {},
     "output_type": "execute_result"
    }
   ],
   "source": [
    "q5 = q1[:2, :2].reshape(2, 2) # make matrix 2 x 2\n",
    "q5"
   ]
  },
  {
   "cell_type": "code",
   "execution_count": 32,
   "metadata": {},
   "outputs": [],
   "source": [
    "r = np.random.randint(1, 10, (5, 5))"
   ]
  },
  {
   "cell_type": "code",
   "execution_count": 33,
   "metadata": {},
   "outputs": [
    {
     "data": {
      "text/plain": [
       "array([[7, 6, 3, 3, 7],\n",
       "       [8, 8, 6, 7, 2],\n",
       "       [7, 6, 2, 6, 2],\n",
       "       [5, 2, 5, 4, 3],\n",
       "       [5, 9, 8, 2, 4]])"
      ]
     },
     "execution_count": 33,
     "metadata": {},
     "output_type": "execute_result"
    }
   ],
   "source": [
    "r"
   ]
  },
  {
   "cell_type": "code",
   "execution_count": 34,
   "metadata": {},
   "outputs": [
    {
     "data": {
      "text/plain": [
       "array([[7, 6, 3],\n",
       "       [8, 8, 6],\n",
       "       [7, 6, 2],\n",
       "       [5, 2, 5],\n",
       "       [5, 9, 8]])"
      ]
     },
     "execution_count": 34,
     "metadata": {},
     "output_type": "execute_result"
    }
   ],
   "source": [
    "r[:,:3] # 3 columns"
   ]
  },
  {
   "cell_type": "code",
   "execution_count": 35,
   "metadata": {},
   "outputs": [
    {
     "data": {
      "text/plain": [
       "array([[7, 6, 3, 3, 7],\n",
       "       [8, 8, 6, 7, 2],\n",
       "       [8, 7, 3, 6, 2],\n",
       "       [6, 3, 6, 4, 3],\n",
       "       [5, 9, 8, 2, 4]])"
      ]
     },
     "execution_count": 35,
     "metadata": {},
     "output_type": "execute_result"
    }
   ],
   "source": [
    "r[2:4, :3] += 1\n",
    "r"
   ]
  },
  {
   "cell_type": "code",
   "execution_count": 36,
   "metadata": {},
   "outputs": [
    {
     "data": {
      "text/plain": [
       "array([1, 2, 3])"
      ]
     },
     "execution_count": 36,
     "metadata": {},
     "output_type": "execute_result"
    }
   ],
   "source": [
    "a = np.array([1, 2, 3, 4, 5])\n",
    "b = np.array([4, 5, 6, 7, 8])\n",
    "np.setdiff1d(a, b)"
   ]
  },
  {
   "cell_type": "code",
   "execution_count": 37,
   "metadata": {},
   "outputs": [
    {
     "data": {
      "text/plain": [
       "array([ 0.11542525, -1.09397845, -1.37919275, -0.00394791,  1.00480482,\n",
       "        1.54731119,  0.6811939 , -1.27814239, -0.41484933,  1.01266284])"
      ]
     },
     "execution_count": 37,
     "metadata": {},
     "output_type": "execute_result"
    }
   ],
   "source": [
    "np.random.randn(10)"
   ]
  },
  {
   "cell_type": "code",
   "execution_count": null,
   "metadata": {},
   "outputs": [],
   "source": []
  }
 ],
 "metadata": {
  "kernelspec": {
   "display_name": "Python 3",
   "language": "python",
   "name": "python3"
  },
  "language_info": {
   "codemirror_mode": {
    "name": "ipython",
    "version": 3
   },
   "file_extension": ".py",
   "mimetype": "text/x-python",
   "name": "python",
   "nbconvert_exporter": "python",
   "pygments_lexer": "ipython3",
   "version": "3.6.5"
  }
 },
 "nbformat": 4,
 "nbformat_minor": 2
}
