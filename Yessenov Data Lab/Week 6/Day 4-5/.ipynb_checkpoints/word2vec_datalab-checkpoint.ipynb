{
 "cells": [
  {
   "cell_type": "markdown",
   "metadata": {},
   "source": [
    "Датасет guide_raw.csv содержит разговоры Kaspi-гидов с клиентами. Цель Kaspi-гида - научить клиента пользоваться сервисами экосистемы Kaspi. \n",
    "\n",
    "Нам интересно, что отличает эффективные разговоры от неэффективных, и какие гиды лучше помогают клиентам разобраться с сервисами Kaspi, и как им это удается. Эффективным разговором мы считаем, если клиент совершил платеж (телефон, коммуналки и т.д.) на Kaspi.kz в течении 3х дней после разговора с гидом.\n",
    "\n",
    "Сможет ли речевая аналитика нам в этом помочь?\n"
   ]
  },
  {
   "cell_type": "code",
   "execution_count": 1,
   "metadata": {},
   "outputs": [],
   "source": [
    "import numpy as np \n",
    "import pandas as pd\n",
    "\n",
    "import matplotlib.pyplot as plt\n",
    "\n",
    "import json\n",
    "import re\n",
    "import pickle\n",
    "\n",
    "from nltk.corpus import stopwords\n",
    "from pymystem3 import Mystem\n",
    "\n",
    "import operator\n",
    "%matplotlib inline"
   ]
  },
  {
   "cell_type": "markdown",
   "metadata": {},
   "source": [
    "1) Откройте файл **'input/guide_raw.csv'**. \n",
    "- Текст в поле **'txt'** был распознан из аудиозаписи разговора автоматически. Считаете ли вы, что система распознавания звука отлично справилась со своей работой?\n",
    "- Сколько в файле записей?\n",
    "- Какой рейндж дат по нашим данным?\n",
    "- Сколько гидов охватывают данные?\n",
    "- Опишите статистики по гидам (сколько минимум/максимум разговоров, сколько в среднем разговоров, медиана)"
   ]
  },
  {
   "cell_type": "code",
   "execution_count": 2,
   "metadata": {},
   "outputs": [
    {
     "data": {
      "text/html": [
       "<div>\n",
       "<style scoped>\n",
       "    .dataframe tbody tr th:only-of-type {\n",
       "        vertical-align: middle;\n",
       "    }\n",
       "\n",
       "    .dataframe tbody tr th {\n",
       "        vertical-align: top;\n",
       "    }\n",
       "\n",
       "    .dataframe thead th {\n",
       "        text-align: right;\n",
       "    }\n",
       "</style>\n",
       "<table border=\"1\" class=\"dataframe\">\n",
       "  <thead>\n",
       "    <tr style=\"text-align: right;\">\n",
       "      <th></th>\n",
       "      <th>Unnamed: 0</th>\n",
       "      <th>personnel_num</th>\n",
       "      <th>guide_date</th>\n",
       "      <th>guide_time</th>\n",
       "      <th>conversion</th>\n",
       "      <th>target_3_days</th>\n",
       "      <th>txt</th>\n",
       "    </tr>\n",
       "  </thead>\n",
       "  <tbody>\n",
       "    <tr>\n",
       "      <th>0</th>\n",
       "      <td>0</td>\n",
       "      <td>1512</td>\n",
       "      <td>18-05-2018</td>\n",
       "      <td>14:44</td>\n",
       "      <td>Нет конверсии</td>\n",
       "      <td>0</td>\n",
       "      <td>сейчас скажу своим да и ещё что-то он на сайте...</td>\n",
       "    </tr>\n",
       "    <tr>\n",
       "      <th>1</th>\n",
       "      <td>1</td>\n",
       "      <td>1512</td>\n",
       "      <td>21-05-2018</td>\n",
       "      <td>9:46</td>\n",
       "      <td>Конверсия платежа</td>\n",
       "      <td>1</td>\n",
       "      <td>спасибо до свидания хорошо я рада была вам пом...</td>\n",
       "    </tr>\n",
       "    <tr>\n",
       "      <th>2</th>\n",
       "      <td>2</td>\n",
       "      <td>1512</td>\n",
       "      <td>25-05-2018</td>\n",
       "      <td>14:25</td>\n",
       "      <td>Конверсия посещения</td>\n",
       "      <td>0</td>\n",
       "      <td>будет готово ставка финансовые есть как это от...</td>\n",
       "    </tr>\n",
       "    <tr>\n",
       "      <th>3</th>\n",
       "      <td>3</td>\n",
       "      <td>1820</td>\n",
       "      <td>27-05-2018</td>\n",
       "      <td>12:41</td>\n",
       "      <td>Конверсия платежа</td>\n",
       "      <td>1</td>\n",
       "      <td>сейчас все закрыто хорошо узнаю все делать оче...</td>\n",
       "    </tr>\n",
       "    <tr>\n",
       "      <th>4</th>\n",
       "      <td>4</td>\n",
       "      <td>1820</td>\n",
       "      <td>18-05-2018</td>\n",
       "      <td>10:12</td>\n",
       "      <td>Нет конверсии</td>\n",
       "      <td>0</td>\n",
       "      <td>окей справ после а сколько апелляционный понят...</td>\n",
       "    </tr>\n",
       "  </tbody>\n",
       "</table>\n",
       "</div>"
      ],
      "text/plain": [
       "   Unnamed: 0  personnel_num  guide_date guide_time           conversion  \\\n",
       "0           0           1512  18-05-2018      14:44        Нет конверсии   \n",
       "1           1           1512  21-05-2018       9:46    Конверсия платежа   \n",
       "2           2           1512  25-05-2018      14:25  Конверсия посещения   \n",
       "3           3           1820  27-05-2018      12:41    Конверсия платежа   \n",
       "4           4           1820  18-05-2018      10:12        Нет конверсии   \n",
       "\n",
       "   target_3_days                                                txt  \n",
       "0              0  сейчас скажу своим да и ещё что-то он на сайте...  \n",
       "1              1  спасибо до свидания хорошо я рада была вам пом...  \n",
       "2              0  будет готово ставка финансовые есть как это от...  \n",
       "3              1  сейчас все закрыто хорошо узнаю все делать оче...  \n",
       "4              0  окей справ после а сколько апелляционный понят...  "
      ]
     },
     "execution_count": 2,
     "metadata": {},
     "output_type": "execute_result"
    }
   ],
   "source": [
    "data = pd.read_csv('data/guide_raw.csv')\n",
    "data.head()"
   ]
  },
  {
   "cell_type": "markdown",
   "metadata": {
    "collapsed": true
   },
   "source": [
    "2) Запустите следующий код. \n",
    "- Что Вы наблюдаете?\n",
    "- Может ли у слова быть несколько нормальных форм? \n",
    "- Проверьте, какие нормальные формы могут быть у слова 'стали'\n",
    "- Как получить нормальную форму слова? "
   ]
  },
  {
   "cell_type": "code",
   "execution_count": 3,
   "metadata": {},
   "outputs": [
    {
     "name": "stdout",
     "output_type": "stream",
     "text": [
      "[Parse(word='стали', tag=OpencorporaTag('VERB,perf,intr plur,past,indc'), normal_form='стать', score=0.984662, methods_stack=((<DictionaryAnalyzer>, 'стали', 904, 4),)), Parse(word='стали', tag=OpencorporaTag('NOUN,inan,femn sing,gent'), normal_form='сталь', score=0.003067, methods_stack=((<DictionaryAnalyzer>, 'стали', 13, 1),)), Parse(word='стали', tag=OpencorporaTag('NOUN,inan,femn sing,datv'), normal_form='сталь', score=0.003067, methods_stack=((<DictionaryAnalyzer>, 'стали', 13, 2),)), Parse(word='стали', tag=OpencorporaTag('NOUN,inan,femn sing,loct'), normal_form='сталь', score=0.003067, methods_stack=((<DictionaryAnalyzer>, 'стали', 13, 5),)), Parse(word='стали', tag=OpencorporaTag('NOUN,inan,femn plur,nomn'), normal_form='сталь', score=0.003067, methods_stack=((<DictionaryAnalyzer>, 'стали', 13, 6),)), Parse(word='стали', tag=OpencorporaTag('NOUN,inan,femn plur,accs'), normal_form='сталь', score=0.003067, methods_stack=((<DictionaryAnalyzer>, 'стали', 13, 9),))]\n"
     ]
    }
   ],
   "source": [
    "import pymorphy2\n",
    "morph = pymorphy2.MorphAnalyzer()\n",
    "print (morph.parse('Стали'))"
   ]
  },
  {
   "cell_type": "raw",
   "metadata": {},
   "source": [
    "# Question:\n",
    "1. Что Вы наблюдаете?\n",
    "2. Может ли у слова быть несколько нормальных форм?\n",
    "3. Проверьте, какие нормальные формы могут быть у слова 'стали'\n",
    "4. Как получить нормальную форму слова?\n",
    "\n",
    "# Answer\n",
    "1. Морфологический анализ для слово Стали\n",
    "2. Да могут быть, \n",
    "3. Сталь, стали, стать\n",
    "4. Можно посмотреть normal_form и на score\n"
   ]
  },
  {
   "cell_type": "markdown",
   "metadata": {},
   "source": [
    "3) Откройте файл **'preprocessing.py'**. \n",
    "- Какие стоп-слова используются? Логичны ли они?\n",
    "- Используется лемматизация или стемминг?\n",
    "- Запустите код в следующей ячейке. Сколько записей в аутпут файле? А сколько должно быть? Сделайте соответствующие изменения в файле, получите результат. (Для того, чтобы Jupyter увидел изменения в файле, возможно, понадобится перезапустить kernel)\n",
    "- Соедините результаты препроцессинга с исходным датафреймом (data/guide_raw.csv)"
   ]
  },
  {
   "cell_type": "code",
   "execution_count": 4,
   "metadata": {},
   "outputs": [
    {
     "name": "stdout",
     "output_type": "stream",
     "text": [
      "CPU times: user 2min 33s, sys: 750 ms, total: 2min 33s\n",
      "Wall time: 2min 58s\n"
     ]
    }
   ],
   "source": [
    "%%time\n",
    "import preprocessing as p\n",
    "\n",
    "p.preprocess('data/guide_raw.csv', 'data/output.csv')"
   ]
  },
  {
   "cell_type": "raw",
   "metadata": {},
   "source": [
    "# Question\n",
    "1. Какие стоп-слова используются? Логичны ли они?\n",
    "2. Используется лемматизация или стемминг?\n",
    "3. Запустите код в следующей ячейке. Сколько записей в аутпут файле? А сколько должно быть? Сделайте соответствующие изменения в файле, получите результат. (Для того, чтобы Jupyter увидел изменения в файле, возможно, понадобится перезапустить kernel)\n",
    "4. Соедините результаты препроцессинга с исходным датафреймом (data/guide_raw.csv)"
   ]
  },
  {
   "cell_type": "code",
   "execution_count": 5,
   "metadata": {},
   "outputs": [
    {
     "name": "stdout",
     "output_type": "stream",
     "text": [
      "Count of stop words: 421\n",
      "['а', 'в', 'г', 'е', 'ж', 'и', 'к', 'м', 'о', 'с', 'т', 'у', 'я', 'бы', 'во', 'вы', 'да', 'до', 'ее', 'ей', 'ею', 'её', 'же', 'за', 'из', 'им', 'их', 'ли', 'мы', 'на', 'не', 'ни', 'но', 'ну', 'нх', 'об', 'он', 'от', 'по', 'со', 'та', 'те', 'то', 'ту', 'ты', 'уж', 'без', 'был', 'вам', 'вас', 'ваш', 'вон', 'вот', 'все', 'всю', 'вся', 'всё', 'где', 'год', 'два', 'две', 'дел', 'для', 'его', 'ему', 'еще', 'ещё', 'или', 'ими', 'имя', 'как', 'кем', 'ком', 'кто', 'лет', 'мне', 'мог', 'мож', 'мои', 'мой', 'мор', 'моя', 'моё', 'над', 'нам', 'нас', 'наш', 'нее', 'ней', 'нем', 'нет', 'нею', 'неё', 'них', 'оба', 'она', 'они', 'оно', 'под', 'пор', 'при', 'про', 'раз', 'сам', 'сих', 'так', 'там', 'тем', 'тех', 'том', 'тот', 'тою', 'три', 'тут', 'уже', 'чем', 'что', 'эта', 'эти', 'это', 'эту', 'алло', 'буду', 'будь', 'бывь', 'была', 'были', 'было', 'быть', 'вами', 'ваша', 'ваше', 'ваши', 'ведь', 'весь', 'вниз', 'всем', 'всех', 'всею', 'года', 'году', 'даже', 'двух', 'день', 'если', 'есть', 'зато', 'кого', 'кому', 'куда', 'лишь', 'люди', 'мало', 'меля', 'меня', 'мимо', 'мира', 'мной', 'мною', 'мочь', 'надо', 'нами', 'наша', 'наше', 'наши', 'него', 'нему', 'ниже', 'ними', 'один', 'пока', 'пора', 'пять', 'рано', 'сама', 'сами', 'само', 'саму', 'свое', 'свои', 'свою', 'себе', 'себя', 'семь', 'стал', 'суть', 'твой', 'твоя', 'твоё', 'тебе', 'тебя', 'теми', 'того', 'тоже', 'тому', 'туда', 'хоть', 'хотя', 'чаще', 'чего', 'чему', 'чтоб', 'чуть', 'этим', 'этих', 'этой', 'этом', 'этот', 'более', 'будем', 'будет', 'будто', 'будут', 'вверх', 'вдали', 'вдруг', 'везде', 'внизу', 'время', 'всего', 'всеми', 'всему', 'всюду', 'давно', 'даром', 'долго', 'друго', 'жизнь', 'занят', 'затем', 'зачем', 'здесь', 'иметь', 'какая', 'какой', 'когда', 'кроме', 'лучше', 'между', 'менее', 'много', 'могут', 'может', 'можно', 'можхо', 'назад', 'низко', 'нужно', 'одной', 'около', 'опять', 'очень', 'перед', 'позже', 'после', 'потом', 'почти', 'пятый', 'разве', 'рядом', 'самим', 'самих', 'самой', 'самом', 'своей', 'своих', 'сеаой', 'снова', 'собой', 'собою', 'такая', 'также', 'такие', 'такое', 'такой', 'тобой', 'тобою', 'тогда', 'тысяч', 'уметь', 'часто', 'через', 'чтобы', 'шесть', 'этими', 'этого', 'этому', 'близко', 'больше', 'будете', 'будешь', 'бывает', 'важная', 'важное', 'важные', 'важный', 'вокруг', 'восемь', 'всегда', 'второй', 'далеко', 'дальше', 'девять', 'десять', 'должно', 'другая', 'другие', 'других', 'другое', 'другой', 'занята', 'занято', 'заняты', 'значит', 'именно', 'иногда', 'каждая', 'каждое', 'каждые', 'каждый', 'кругом', 'меньше', 'начала', 'нельзя', 'нибудь', 'никуда', 'ничего', 'обычно', 'однако', 'одного', 'отсюда', 'первый', 'потому', 'почему', 'просто', 'против', 'раньше', 'самими', 'самого', 'самому', 'своего', 'сейчас', 'сказал', 'совсем', 'теперь', 'только', 'третий', 'хорошо', 'хотеть', 'хочешь', 'четыре', 'шестой', 'восьмой', 'впрочем', 'времени', 'говорил', 'говорит', 'девятый', 'десятый', 'кажется', 'конечно', 'которая', 'которой', 'которые', 'который', 'которых', 'наверху', 'наконец', 'недавно', 'немного', 'нередко', 'никогда', 'однажды', 'посреди', 'сегодня', 'седьмой', 'сказала', 'сказать', 'сколько', 'слишком', 'сначала', 'спасибо', 'человек', 'двадцать', 'довольно', 'которого', 'наиболее', 'недалеко', 'особенно', 'отовсюду', 'двадцатый', 'миллионов', 'несколько', 'прекрасно', 'процентов', 'четвертый', 'двенадцать', 'непрерывно', 'пожалуйста', 'пятнадцать', 'семнадцать', 'тринадцать', 'двенадцатый', 'одиннадцать', 'пятнадцатый', 'семнадцатый', 'тринадцатый', 'шестнадцать', 'восемнадцать', 'девятнадцать', 'одиннадцатый', 'четырнадцать', 'шестнадцатый', 'восемнадцатый', 'девятнадцатый', 'действительно', 'четырнадцатый', 'многочисленная', 'многочисленное', 'многочисленные', 'многочисленный']\n"
     ]
    }
   ],
   "source": [
    "# 1. Какие стоп-слова используются? Логичны ли они?\n",
    "print('Count of stop words: {}'.format(len(p.stop_words)))\n",
    "print(p.stop_words)"
   ]
  },
  {
   "cell_type": "raw",
   "metadata": {},
   "source": [
    "2. Используется лемматизация или стемминг?\n",
    "\n",
    "Используется ручной лемматайзер"
   ]
  },
  {
   "cell_type": "code",
   "execution_count": 6,
   "metadata": {},
   "outputs": [],
   "source": [
    "# 3. Запустите код в следующей ячейке. Сколько записей в аутпут файле? А сколько должно быть? \n",
    "# Сделайте соответствующие изменения в файле, получите результат. \n",
    "# (Для того, чтобы Jupyter увидел изменения в файле, возможно, понадобится перезапустить kernel)\n",
    "\n",
    "data_out = pd.read_csv('data/output.csv', delimiter=',')"
   ]
  },
  {
   "cell_type": "code",
   "execution_count": 7,
   "metadata": {},
   "outputs": [
    {
     "name": "stdout",
     "output_type": "stream",
     "text": [
      "<class 'pandas.core.frame.DataFrame'>\n",
      "RangeIndex: 1795 entries, 0 to 1794\n",
      "Data columns (total 2 columns):\n",
      "0                                                                                                                                                                                                                                                                                                                                                                                                                                                                                                                                                                                                                                                                                                                                                                                                                                                                                                                                                                                                                                                                                                                                                                                                                                                                                                                                                                                                                                                                                                                                                                                                                                                                                                                                                                                                                                                                                                                                                                                                                                                                                                                                                                                                                                                                                                                                                                                                                                                                                                                                                                                                                                                                                                                                                                                                                                                                                                                                                                                                                                                                                                                                                                                                                                                                                                                                                                                                                                                                                                                                                                                                                                                                                                                                                                                                                                                                                                                                                                                                                                                                                                                                                                                                                                                                                                                                                                                                                                                                                                                                                                                                                                                                                                                                                                                                                                                                                                                                                                                                                                                                                                                                                                                                       1795 non-null int64\n",
      "b'skazatb svoi chto-to sait karta obiazatelbno zaregistrirovatbsia znatb bratb elektronika nazhimatb kredit depozit kartochka depozit piatbdesiat kartochka informatsiia depozit otkryvatb dverb govoritb informatsiia posmotretb priiti otdelenie mochb dom kommunalbnyi platyozh oplachivatb khoditb khoditb komissiia videtb khoditb nozhka mochb dom sidetb oplachivatb kommunalbnyi usluga poluchatb bonus platyozh bonus zabytb khoditb nozhka rabotatb rabota bonus polbzovatbsia oplachivatb davatb posmotretb zaregistrirovatb nomer svoi telefon pomnitb pustb registratsiia semyorka tselovatb pytatbsia chestno mozgi semnadtsatb chetyresta sorok piatbdesiat chetyresta sorok shestbdesiat vosembdesiat semyorka chetyresta sorok shestbdesiat pravilbno telefon ubiratb telefon vyslatb sms kod posmotretb sms podpisb dom kompbiuter internet zakhoditb voobshche internet soobshchenie povod pensiia desiatb million zagranitsu internet polbzovatbsia imetb vopros skazatb nepravilbno vash data rozhdenie nolb nolb nomer pomnitb kartochka vladimir kartochka posmotretb kartochka po-moemu summa otkryvatb snimatb denbga depozit otkryvatb razvod nakopitb nakopitb snimatb perevoditb denbga depozit karta desiatka podkhoditb familiia perevoditb liuboi sluchai prikhoditb liuboi prikhoditb spokoinyi smotretb pridumatb parolb parolb liuba glavnyi vosemb simvol bukva tsifra parolb zabytb kakoi-nibudb zakhoditb kakoi-to sait odnoklassnik chto-to kakoi-nibudb parolb mochb sdelatb odinakovyi parolb zabytb stoitb simvol glavnyi vosemb semb bukva tsifra dalee voobshche nezhelatelbno tsifra schitatbsia parolb legko vzlomatb tsifra bukva bezopasnostb vash sait uvelichivatbsia stoitb russkii iazyk idti russkii nizhnii shlikh verkhnii angliiskii idti parolb pridumatb otvernutbsia pridumatb skazatb pridumatb listochek zapisatb pitb zapisatb domoi priiti mochb perepisyvatbsia pridumatb siuda nabratb nizhnii bukva skazatb pokazyvatb staratbsia polozhitb tselb bezopasnostb vash sniatb chto-to shtuka pustb pustb glavnyi siuda vvesti siuda siuda povtoritb delatb klaviatura desiatb dva pridumatb nizhnii nizhnii bukva mena shapka dorogoi dom porugatb novyi telefon kupitb polbzovatbsia umetb prikol davatb sdelatb pomochb aga parolb pridumatb znatb voobshche ideia nepravilbno domoi priiti parolb sdelatb izmenenie parolb dvesti summa parolb pomeniatb problema glavnyi sdelatb mochb vospolbzovatbsia polozhitb bezopasnostb polgoda napisatb bolbshoi bukva bolbshoi bukva rik nabratb nabratb tochka vmeste bolbshoi bukva pisatb darik vosembdesiat listochek petb minuta prodolzhitb summa skazatb parolb pomeniatb smotretb pozdravliatb sobstvenno stranichka nash banka zakaz kakoi vziatb prosmatrivatb informatsiia depozit svoi smotretb videtb kartochka obychnyi kartochka krasnyi prospatb netu ostatok depozit absoliutno mochb smotretb smotretb operatsiia depozit smotretb nedelia operatsiia dostupno mesiats primer kakoi dvizhenie protsent upastb smotretb protsent protsent nikakoi dvizhenie sniatie vosemnadtsatb aprelb sorok tysiacha ostalbnoi blizhnii nikakoi operatsiia vosemb kleitb polgoda mochb posmotretb informatsiia udobno prikhoditb otdelenie kartochka popolnitb uvidetb ostatok delatb perevod kreditnyi kartochka snimatb videtb poslednii snimatb semnadtsatb mai tysiacha denbga vchera karta zabratb bolbnitsa samyi lekarstvo podatb zaiavka kredit smotretb zaiavka kredit podatb sluchai odobritb kredit poiavitbsia smochb smotretb mesiachnyi platyozh dalee dosrochno pogasitb kredit smotretb poetomu udobno dom kompbiuter zakhoditb svoi nabratb parolb smotretb vyiti spetsialbno pokazatb nabratb kaspi ki zet videtb kaspi bank nash zvonitb sait nazyvatbsia kaspi tochka kakoi-to pustb siuda nabratb nomer semyorka chetyresta sorok chetyresta sorok piatbdesiat nabratb parolb dannyi moment daritb garik vosembdesiat voiti poiti smenitb parolb siuda nazhatb smenitb parolb sdelatb staryi parolb beret raz novyi pridumatb domoi priiti voobshche udobno nash sait karta kakoi oplachivatb kommunalbnyi usluga siuda zakhoditb platyozh platyozh kommunalbnyi usluga absoliutno besplatno nikakoi komissiia netu primer oplachivatb pavlodar energosbyt domoi znaete nomer litsevoi schyot kvitantsiia propisyvatbsia gorod pavlodar vybiratb otsylka kazhdyi summa kotoryi oplatitb nachisliatbsia bonus protsent summa bonus mochb tratitb sait udobno boletb primer govoritb bolbnitsa lezhatb kto-to nekogda vmesto oplatitb kommunalbnyi platyozh zakhoditb sait tochka kaspi tochka kakoi-to oplachivatb kakoi problema khoditb bonus poluchatb bukhatb zhdatb krovoobrashchenie koleno chelovek khoditb poguliatb khoditb nerv tratitb doklad kommunalbnyi poiti park posidetb lavochka pokhoditb banka poetomu polbzovatbsia obiazatelbno syn skazatb pustb pomeniatbsia parolb zakhoditb kommunalbnyi usluga chto-nibudb priiti poprobovatb chto-to neponiatno vmeste oplachivatb protsent udobno stranichka vyiti kakoi vopros kakoi-to vopros kredit nauchitbsia nauchitbsia obiazatelbno uchitb udobno pravda klient voobshche mnogie znatb che '    1795 non-null object\n",
      "dtypes: int64(1), object(1)\n",
      "memory usage: 28.1+ KB\n"
     ]
    }
   ],
   "source": [
    "data_out.info()"
   ]
  },
  {
   "cell_type": "code",
   "execution_count": 9,
   "metadata": {},
   "outputs": [
    {
     "data": {
      "text/html": [
       "<div>\n",
       "<style scoped>\n",
       "    .dataframe tbody tr th:only-of-type {\n",
       "        vertical-align: middle;\n",
       "    }\n",
       "\n",
       "    .dataframe tbody tr th {\n",
       "        vertical-align: top;\n",
       "    }\n",
       "\n",
       "    .dataframe thead th {\n",
       "        text-align: right;\n",
       "    }\n",
       "</style>\n",
       "<table border=\"1\" class=\"dataframe\">\n",
       "  <thead>\n",
       "    <tr style=\"text-align: right;\">\n",
       "      <th></th>\n",
       "      <th>0</th>\n",
       "      <th>1</th>\n",
       "      <th>2</th>\n",
       "      <th>3</th>\n",
       "      <th>4</th>\n",
       "    </tr>\n",
       "  </thead>\n",
       "  <tbody>\n",
       "    <tr>\n",
       "      <th>0</th>\n",
       "      <td>1</td>\n",
       "      <td>2</td>\n",
       "      <td>3</td>\n",
       "      <td>4</td>\n",
       "      <td>5</td>\n",
       "    </tr>\n",
       "    <tr>\n",
       "      <th>b'skazatb svoi chto-to sait karta obiazatelbno zaregistrirovatbsia znatb bratb elektronika nazhimatb kredit depozit kartochka depozit piatbdesiat kartochka informatsiia depozit otkryvatb dverb govoritb informatsiia posmotretb priiti otdelenie mochb dom kommunalbnyi platyozh oplachivatb khoditb khoditb komissiia videtb khoditb nozhka mochb dom sidetb oplachivatb kommunalbnyi usluga poluchatb bonus platyozh bonus zabytb khoditb nozhka rabotatb rabota bonus polbzovatbsia oplachivatb davatb posmotretb zaregistrirovatb nomer svoi telefon pomnitb pustb registratsiia semyorka tselovatb pytatbsia chestno mozgi semnadtsatb chetyresta sorok piatbdesiat chetyresta sorok shestbdesiat vosembdesiat semyorka chetyresta sorok shestbdesiat pravilbno telefon ubiratb telefon vyslatb sms kod posmotretb sms podpisb dom kompbiuter internet zakhoditb voobshche internet soobshchenie povod pensiia desiatb million zagranitsu internet polbzovatbsia imetb vopros skazatb nepravilbno vash data rozhdenie nolb nolb nomer pomnitb kartochka vladimir kartochka posmotretb kartochka po-moemu summa otkryvatb snimatb denbga depozit otkryvatb razvod nakopitb nakopitb snimatb perevoditb denbga depozit karta desiatka podkhoditb familiia perevoditb liuboi sluchai prikhoditb liuboi prikhoditb spokoinyi smotretb pridumatb parolb parolb liuba glavnyi vosemb simvol bukva tsifra parolb zabytb kakoi-nibudb zakhoditb kakoi-to sait odnoklassnik chto-to kakoi-nibudb parolb mochb sdelatb odinakovyi parolb zabytb stoitb simvol glavnyi vosemb semb bukva tsifra dalee voobshche nezhelatelbno tsifra schitatbsia parolb legko vzlomatb tsifra bukva bezopasnostb vash sait uvelichivatbsia stoitb russkii iazyk idti russkii nizhnii shlikh verkhnii angliiskii idti parolb pridumatb otvernutbsia pridumatb skazatb pridumatb listochek zapisatb pitb zapisatb domoi priiti mochb perepisyvatbsia pridumatb siuda nabratb nizhnii bukva skazatb pokazyvatb staratbsia polozhitb tselb bezopasnostb vash sniatb chto-to shtuka pustb pustb glavnyi siuda vvesti siuda siuda povtoritb delatb klaviatura desiatb dva pridumatb nizhnii nizhnii bukva mena shapka dorogoi dom porugatb novyi telefon kupitb polbzovatbsia umetb prikol davatb sdelatb pomochb aga parolb pridumatb znatb voobshche ideia nepravilbno domoi priiti parolb sdelatb izmenenie parolb dvesti summa parolb pomeniatb problema glavnyi sdelatb mochb vospolbzovatbsia polozhitb bezopasnostb polgoda napisatb bolbshoi bukva bolbshoi bukva rik nabratb nabratb tochka vmeste bolbshoi bukva pisatb darik vosembdesiat listochek petb minuta prodolzhitb summa skazatb parolb pomeniatb smotretb pozdravliatb sobstvenno stranichka nash banka zakaz kakoi vziatb prosmatrivatb informatsiia depozit svoi smotretb videtb kartochka obychnyi kartochka krasnyi prospatb netu ostatok depozit absoliutno mochb smotretb smotretb operatsiia depozit smotretb nedelia operatsiia dostupno mesiats primer kakoi dvizhenie protsent upastb smotretb protsent protsent nikakoi dvizhenie sniatie vosemnadtsatb aprelb sorok tysiacha ostalbnoi blizhnii nikakoi operatsiia vosemb kleitb polgoda mochb posmotretb informatsiia udobno prikhoditb otdelenie kartochka popolnitb uvidetb ostatok delatb perevod kreditnyi kartochka snimatb videtb poslednii snimatb semnadtsatb mai tysiacha denbga vchera karta zabratb bolbnitsa samyi lekarstvo podatb zaiavka kredit smotretb zaiavka kredit podatb sluchai odobritb kredit poiavitbsia smochb smotretb mesiachnyi platyozh dalee dosrochno pogasitb kredit smotretb poetomu udobno dom kompbiuter zakhoditb svoi nabratb parolb smotretb vyiti spetsialbno pokazatb nabratb kaspi ki zet videtb kaspi bank nash zvonitb sait nazyvatbsia kaspi tochka kakoi-to pustb siuda nabratb nomer semyorka chetyresta sorok chetyresta sorok piatbdesiat nabratb parolb dannyi moment daritb garik vosembdesiat voiti poiti smenitb parolb siuda nazhatb smenitb parolb sdelatb staryi parolb beret raz novyi pridumatb domoi priiti voobshche udobno nash sait karta kakoi oplachivatb kommunalbnyi usluga siuda zakhoditb platyozh platyozh kommunalbnyi usluga absoliutno besplatno nikakoi komissiia netu primer oplachivatb pavlodar energosbyt domoi znaete nomer litsevoi schyot kvitantsiia propisyvatbsia gorod pavlodar vybiratb otsylka kazhdyi summa kotoryi oplatitb nachisliatbsia bonus protsent summa bonus mochb tratitb sait udobno boletb primer govoritb bolbnitsa lezhatb kto-to nekogda vmesto oplatitb kommunalbnyi platyozh zakhoditb sait tochka kaspi tochka kakoi-to oplachivatb kakoi problema khoditb bonus poluchatb bukhatb zhdatb krovoobrashchenie koleno chelovek khoditb poguliatb khoditb nerv tratitb doklad kommunalbnyi poiti park posidetb lavochka pokhoditb banka poetomu polbzovatbsia obiazatelbno syn skazatb pustb pomeniatbsia parolb zakhoditb kommunalbnyi usluga chto-nibudb priiti poprobovatb chto-to neponiatno vmeste oplachivatb protsent udobno stranichka vyiti kakoi vopros kakoi-to vopros kredit nauchitbsia nauchitbsia obiazatelbno uchitb udobno pravda klient voobshche mnogie znatb che '</th>\n",
       "      <td>b'terpenie podrabatyvatb tridtsatb mochb utoch...</td>\n",
       "      <td>b'zakrytb nazhimatb zvonitb parolb ponedelbnik...</td>\n",
       "      <td>b'konets kreditnyi mama zhitb dvizhenie kredit...</td>\n",
       "      <td>b'okh razbiratb kakoi-to kormitb internet inte...</td>\n",
       "      <td>b'prilozhenie karta bankomat prositb idti nabi...</td>\n",
       "    </tr>\n",
       "  </tbody>\n",
       "</table>\n",
       "</div>"
      ],
      "text/plain": [
       "                                                                                                    0  \\\n",
       "0                                                                                                   1   \n",
       "b'skazatb svoi chto-to sait karta obiazatelbno ...  b'terpenie podrabatyvatb tridtsatb mochb utoch...   \n",
       "\n",
       "                                                                                                    1  \\\n",
       "0                                                                                                   2   \n",
       "b'skazatb svoi chto-to sait karta obiazatelbno ...  b'zakrytb nazhimatb zvonitb parolb ponedelbnik...   \n",
       "\n",
       "                                                                                                    2  \\\n",
       "0                                                                                                   3   \n",
       "b'skazatb svoi chto-to sait karta obiazatelbno ...  b'konets kreditnyi mama zhitb dvizhenie kredit...   \n",
       "\n",
       "                                                                                                    3  \\\n",
       "0                                                                                                   4   \n",
       "b'skazatb svoi chto-to sait karta obiazatelbno ...  b'okh razbiratb kakoi-to kormitb internet inte...   \n",
       "\n",
       "                                                                                                    4  \n",
       "0                                                                                                   5  \n",
       "b'skazatb svoi chto-to sait karta obiazatelbno ...  b'prilozhenie karta bankomat prositb idti nabi...  "
      ]
     },
     "execution_count": 9,
     "metadata": {},
     "output_type": "execute_result"
    }
   ],
   "source": [
    "data_out.head().T"
   ]
  },
  {
   "cell_type": "code",
   "execution_count": 11,
   "metadata": {
    "scrolled": true
   },
   "outputs": [
    {
     "ename": "KeyError",
     "evalue": "0",
     "output_type": "error",
     "traceback": [
      "\u001b[0;31m---------------------------------------------------------------------------\u001b[0m",
      "\u001b[0;31mKeyError\u001b[0m                                  Traceback (most recent call last)",
      "\u001b[0;32m/Library/Frameworks/Python.framework/Versions/3.6/lib/python3.6/site-packages/pandas/core/indexes/base.py\u001b[0m in \u001b[0;36mget_loc\u001b[0;34m(self, key, method, tolerance)\u001b[0m\n\u001b[1;32m   2524\u001b[0m             \u001b[0;32mtry\u001b[0m\u001b[0;34m:\u001b[0m\u001b[0;34m\u001b[0m\u001b[0m\n\u001b[0;32m-> 2525\u001b[0;31m                 \u001b[0;32mreturn\u001b[0m \u001b[0mself\u001b[0m\u001b[0;34m.\u001b[0m\u001b[0m_engine\u001b[0m\u001b[0;34m.\u001b[0m\u001b[0mget_loc\u001b[0m\u001b[0;34m(\u001b[0m\u001b[0mkey\u001b[0m\u001b[0;34m)\u001b[0m\u001b[0;34m\u001b[0m\u001b[0m\n\u001b[0m\u001b[1;32m   2526\u001b[0m             \u001b[0;32mexcept\u001b[0m \u001b[0mKeyError\u001b[0m\u001b[0;34m:\u001b[0m\u001b[0;34m\u001b[0m\u001b[0m\n",
      "\u001b[0;32mpandas/_libs/index.pyx\u001b[0m in \u001b[0;36mpandas._libs.index.IndexEngine.get_loc\u001b[0;34m()\u001b[0m\n",
      "\u001b[0;32mpandas/_libs/index.pyx\u001b[0m in \u001b[0;36mpandas._libs.index.IndexEngine.get_loc\u001b[0;34m()\u001b[0m\n",
      "\u001b[0;32mpandas/_libs/hashtable_class_helper.pxi\u001b[0m in \u001b[0;36mpandas._libs.hashtable.PyObjectHashTable.get_item\u001b[0;34m()\u001b[0m\n",
      "\u001b[0;32mpandas/_libs/hashtable_class_helper.pxi\u001b[0m in \u001b[0;36mpandas._libs.hashtable.PyObjectHashTable.get_item\u001b[0;34m()\u001b[0m\n",
      "\u001b[0;31mKeyError\u001b[0m: 0",
      "\nDuring handling of the above exception, another exception occurred:\n",
      "\u001b[0;31mKeyError\u001b[0m                                  Traceback (most recent call last)",
      "\u001b[0;32m<ipython-input-11-979b090c83cf>\u001b[0m in \u001b[0;36m<module>\u001b[0;34m()\u001b[0m\n\u001b[0;32m----> 1\u001b[0;31m \u001b[0mdata_out\u001b[0m\u001b[0;34m[\u001b[0m\u001b[0;36m0\u001b[0m\u001b[0;34m]\u001b[0m\u001b[0;34m\u001b[0m\u001b[0m\n\u001b[0m",
      "\u001b[0;32m/Library/Frameworks/Python.framework/Versions/3.6/lib/python3.6/site-packages/pandas/core/frame.py\u001b[0m in \u001b[0;36m__getitem__\u001b[0;34m(self, key)\u001b[0m\n\u001b[1;32m   2137\u001b[0m             \u001b[0;32mreturn\u001b[0m \u001b[0mself\u001b[0m\u001b[0;34m.\u001b[0m\u001b[0m_getitem_multilevel\u001b[0m\u001b[0;34m(\u001b[0m\u001b[0mkey\u001b[0m\u001b[0;34m)\u001b[0m\u001b[0;34m\u001b[0m\u001b[0m\n\u001b[1;32m   2138\u001b[0m         \u001b[0;32melse\u001b[0m\u001b[0;34m:\u001b[0m\u001b[0;34m\u001b[0m\u001b[0m\n\u001b[0;32m-> 2139\u001b[0;31m             \u001b[0;32mreturn\u001b[0m \u001b[0mself\u001b[0m\u001b[0;34m.\u001b[0m\u001b[0m_getitem_column\u001b[0m\u001b[0;34m(\u001b[0m\u001b[0mkey\u001b[0m\u001b[0;34m)\u001b[0m\u001b[0;34m\u001b[0m\u001b[0m\n\u001b[0m\u001b[1;32m   2140\u001b[0m \u001b[0;34m\u001b[0m\u001b[0m\n\u001b[1;32m   2141\u001b[0m     \u001b[0;32mdef\u001b[0m \u001b[0m_getitem_column\u001b[0m\u001b[0;34m(\u001b[0m\u001b[0mself\u001b[0m\u001b[0;34m,\u001b[0m \u001b[0mkey\u001b[0m\u001b[0;34m)\u001b[0m\u001b[0;34m:\u001b[0m\u001b[0;34m\u001b[0m\u001b[0m\n",
      "\u001b[0;32m/Library/Frameworks/Python.framework/Versions/3.6/lib/python3.6/site-packages/pandas/core/frame.py\u001b[0m in \u001b[0;36m_getitem_column\u001b[0;34m(self, key)\u001b[0m\n\u001b[1;32m   2144\u001b[0m         \u001b[0;31m# get column\u001b[0m\u001b[0;34m\u001b[0m\u001b[0;34m\u001b[0m\u001b[0m\n\u001b[1;32m   2145\u001b[0m         \u001b[0;32mif\u001b[0m \u001b[0mself\u001b[0m\u001b[0;34m.\u001b[0m\u001b[0mcolumns\u001b[0m\u001b[0;34m.\u001b[0m\u001b[0mis_unique\u001b[0m\u001b[0;34m:\u001b[0m\u001b[0;34m\u001b[0m\u001b[0m\n\u001b[0;32m-> 2146\u001b[0;31m             \u001b[0;32mreturn\u001b[0m \u001b[0mself\u001b[0m\u001b[0;34m.\u001b[0m\u001b[0m_get_item_cache\u001b[0m\u001b[0;34m(\u001b[0m\u001b[0mkey\u001b[0m\u001b[0;34m)\u001b[0m\u001b[0;34m\u001b[0m\u001b[0m\n\u001b[0m\u001b[1;32m   2147\u001b[0m \u001b[0;34m\u001b[0m\u001b[0m\n\u001b[1;32m   2148\u001b[0m         \u001b[0;31m# duplicate columns & possible reduce dimensionality\u001b[0m\u001b[0;34m\u001b[0m\u001b[0;34m\u001b[0m\u001b[0m\n",
      "\u001b[0;32m/Library/Frameworks/Python.framework/Versions/3.6/lib/python3.6/site-packages/pandas/core/generic.py\u001b[0m in \u001b[0;36m_get_item_cache\u001b[0;34m(self, item)\u001b[0m\n\u001b[1;32m   1840\u001b[0m         \u001b[0mres\u001b[0m \u001b[0;34m=\u001b[0m \u001b[0mcache\u001b[0m\u001b[0;34m.\u001b[0m\u001b[0mget\u001b[0m\u001b[0;34m(\u001b[0m\u001b[0mitem\u001b[0m\u001b[0;34m)\u001b[0m\u001b[0;34m\u001b[0m\u001b[0m\n\u001b[1;32m   1841\u001b[0m         \u001b[0;32mif\u001b[0m \u001b[0mres\u001b[0m \u001b[0;32mis\u001b[0m \u001b[0;32mNone\u001b[0m\u001b[0;34m:\u001b[0m\u001b[0;34m\u001b[0m\u001b[0m\n\u001b[0;32m-> 1842\u001b[0;31m             \u001b[0mvalues\u001b[0m \u001b[0;34m=\u001b[0m \u001b[0mself\u001b[0m\u001b[0;34m.\u001b[0m\u001b[0m_data\u001b[0m\u001b[0;34m.\u001b[0m\u001b[0mget\u001b[0m\u001b[0;34m(\u001b[0m\u001b[0mitem\u001b[0m\u001b[0;34m)\u001b[0m\u001b[0;34m\u001b[0m\u001b[0m\n\u001b[0m\u001b[1;32m   1843\u001b[0m             \u001b[0mres\u001b[0m \u001b[0;34m=\u001b[0m \u001b[0mself\u001b[0m\u001b[0;34m.\u001b[0m\u001b[0m_box_item_values\u001b[0m\u001b[0;34m(\u001b[0m\u001b[0mitem\u001b[0m\u001b[0;34m,\u001b[0m \u001b[0mvalues\u001b[0m\u001b[0;34m)\u001b[0m\u001b[0;34m\u001b[0m\u001b[0m\n\u001b[1;32m   1844\u001b[0m             \u001b[0mcache\u001b[0m\u001b[0;34m[\u001b[0m\u001b[0mitem\u001b[0m\u001b[0;34m]\u001b[0m \u001b[0;34m=\u001b[0m \u001b[0mres\u001b[0m\u001b[0;34m\u001b[0m\u001b[0m\n",
      "\u001b[0;32m/Library/Frameworks/Python.framework/Versions/3.6/lib/python3.6/site-packages/pandas/core/internals.py\u001b[0m in \u001b[0;36mget\u001b[0;34m(self, item, fastpath)\u001b[0m\n\u001b[1;32m   3841\u001b[0m \u001b[0;34m\u001b[0m\u001b[0m\n\u001b[1;32m   3842\u001b[0m             \u001b[0;32mif\u001b[0m \u001b[0;32mnot\u001b[0m \u001b[0misna\u001b[0m\u001b[0;34m(\u001b[0m\u001b[0mitem\u001b[0m\u001b[0;34m)\u001b[0m\u001b[0;34m:\u001b[0m\u001b[0;34m\u001b[0m\u001b[0m\n\u001b[0;32m-> 3843\u001b[0;31m                 \u001b[0mloc\u001b[0m \u001b[0;34m=\u001b[0m \u001b[0mself\u001b[0m\u001b[0;34m.\u001b[0m\u001b[0mitems\u001b[0m\u001b[0;34m.\u001b[0m\u001b[0mget_loc\u001b[0m\u001b[0;34m(\u001b[0m\u001b[0mitem\u001b[0m\u001b[0;34m)\u001b[0m\u001b[0;34m\u001b[0m\u001b[0m\n\u001b[0m\u001b[1;32m   3844\u001b[0m             \u001b[0;32melse\u001b[0m\u001b[0;34m:\u001b[0m\u001b[0;34m\u001b[0m\u001b[0m\n\u001b[1;32m   3845\u001b[0m                 \u001b[0mindexer\u001b[0m \u001b[0;34m=\u001b[0m \u001b[0mnp\u001b[0m\u001b[0;34m.\u001b[0m\u001b[0marange\u001b[0m\u001b[0;34m(\u001b[0m\u001b[0mlen\u001b[0m\u001b[0;34m(\u001b[0m\u001b[0mself\u001b[0m\u001b[0;34m.\u001b[0m\u001b[0mitems\u001b[0m\u001b[0;34m)\u001b[0m\u001b[0;34m)\u001b[0m\u001b[0;34m[\u001b[0m\u001b[0misna\u001b[0m\u001b[0;34m(\u001b[0m\u001b[0mself\u001b[0m\u001b[0;34m.\u001b[0m\u001b[0mitems\u001b[0m\u001b[0;34m)\u001b[0m\u001b[0;34m]\u001b[0m\u001b[0;34m\u001b[0m\u001b[0m\n",
      "\u001b[0;32m/Library/Frameworks/Python.framework/Versions/3.6/lib/python3.6/site-packages/pandas/core/indexes/base.py\u001b[0m in \u001b[0;36mget_loc\u001b[0;34m(self, key, method, tolerance)\u001b[0m\n\u001b[1;32m   2525\u001b[0m                 \u001b[0;32mreturn\u001b[0m \u001b[0mself\u001b[0m\u001b[0;34m.\u001b[0m\u001b[0m_engine\u001b[0m\u001b[0;34m.\u001b[0m\u001b[0mget_loc\u001b[0m\u001b[0;34m(\u001b[0m\u001b[0mkey\u001b[0m\u001b[0;34m)\u001b[0m\u001b[0;34m\u001b[0m\u001b[0m\n\u001b[1;32m   2526\u001b[0m             \u001b[0;32mexcept\u001b[0m \u001b[0mKeyError\u001b[0m\u001b[0;34m:\u001b[0m\u001b[0;34m\u001b[0m\u001b[0m\n\u001b[0;32m-> 2527\u001b[0;31m                 \u001b[0;32mreturn\u001b[0m \u001b[0mself\u001b[0m\u001b[0;34m.\u001b[0m\u001b[0m_engine\u001b[0m\u001b[0;34m.\u001b[0m\u001b[0mget_loc\u001b[0m\u001b[0;34m(\u001b[0m\u001b[0mself\u001b[0m\u001b[0;34m.\u001b[0m\u001b[0m_maybe_cast_indexer\u001b[0m\u001b[0;34m(\u001b[0m\u001b[0mkey\u001b[0m\u001b[0;34m)\u001b[0m\u001b[0;34m)\u001b[0m\u001b[0;34m\u001b[0m\u001b[0m\n\u001b[0m\u001b[1;32m   2528\u001b[0m \u001b[0;34m\u001b[0m\u001b[0m\n\u001b[1;32m   2529\u001b[0m         \u001b[0mindexer\u001b[0m \u001b[0;34m=\u001b[0m \u001b[0mself\u001b[0m\u001b[0;34m.\u001b[0m\u001b[0mget_indexer\u001b[0m\u001b[0;34m(\u001b[0m\u001b[0;34m[\u001b[0m\u001b[0mkey\u001b[0m\u001b[0;34m]\u001b[0m\u001b[0;34m,\u001b[0m \u001b[0mmethod\u001b[0m\u001b[0;34m=\u001b[0m\u001b[0mmethod\u001b[0m\u001b[0;34m,\u001b[0m \u001b[0mtolerance\u001b[0m\u001b[0;34m=\u001b[0m\u001b[0mtolerance\u001b[0m\u001b[0;34m)\u001b[0m\u001b[0;34m\u001b[0m\u001b[0m\n",
      "\u001b[0;32mpandas/_libs/index.pyx\u001b[0m in \u001b[0;36mpandas._libs.index.IndexEngine.get_loc\u001b[0;34m()\u001b[0m\n",
      "\u001b[0;32mpandas/_libs/index.pyx\u001b[0m in \u001b[0;36mpandas._libs.index.IndexEngine.get_loc\u001b[0;34m()\u001b[0m\n",
      "\u001b[0;32mpandas/_libs/hashtable_class_helper.pxi\u001b[0m in \u001b[0;36mpandas._libs.hashtable.PyObjectHashTable.get_item\u001b[0;34m()\u001b[0m\n",
      "\u001b[0;32mpandas/_libs/hashtable_class_helper.pxi\u001b[0m in \u001b[0;36mpandas._libs.hashtable.PyObjectHashTable.get_item\u001b[0;34m()\u001b[0m\n",
      "\u001b[0;31mKeyError\u001b[0m: 0"
     ]
    }
   ],
   "source": [
    "data_out"
   ]
  },
  {
   "cell_type": "markdown",
   "metadata": {},
   "source": [
    "4) Обучите word2vec (библиотека gensim):\n",
    "- в корпусе слов оставьте только слова, повторяющиеся более одного раза\n",
    "- обучите word2vec модель. На что влияют параметры size, window, min_count? Остановимся на size = 100\n",
    "- создайте датафрейм, где индексами будут слова, а колонками - значения по измерениям получившихся векторов"
   ]
  },
  {
   "cell_type": "code",
   "execution_count": null,
   "metadata": {
    "collapsed": true
   },
   "outputs": [],
   "source": [
    "from gensim.models import word2vec\n",
    "\n"
   ]
  },
  {
   "cell_type": "markdown",
   "metadata": {},
   "source": [
    "5) Визуализируем то, что получилось.\n",
    "\n",
    "- Нормализуйте данные по каждой колонке, чтобы значения были в интервале [0, 1]\n",
    "- Используя dimensionality reduction (PCA/LDA..), спроецируйте 100-мерные векторы на двумерное пространство\n",
    "- Выведите результат с метками (чтобы каждой точке на графике соответствовало слово)\n"
   ]
  },
  {
   "cell_type": "code",
   "execution_count": null,
   "metadata": {
    "collapsed": true
   },
   "outputs": [],
   "source": []
  },
  {
   "cell_type": "markdown",
   "metadata": {},
   "source": [
    "6) Помните свойство word2vec, что слова, близкие в векторном пространстве, находятся примерно в одинаковом контексте? Быть может, мы сможем выделить основные тематики в разговорах?\n",
    "- кластеризуйте слова на 15 кластеров, используя любой алгоритм на ваш выбор (но с заданным кол-вом кластеров)\n",
    "- Выведите картинку точек на графике (используйте координаты двумерного пространства с прошлого задания), окрасив разные кластеры в разные цвета. Метки слов не нужны\n",
    "- Удовлетворяют ли вас результаты кластеризации? Почему?"
   ]
  },
  {
   "cell_type": "code",
   "execution_count": null,
   "metadata": {
    "collapsed": true
   },
   "outputs": [],
   "source": []
  },
  {
   "cell_type": "markdown",
   "metadata": {},
   "source": [
    "7) По каждому кластеру выведите список слов и попробуйте сформировать тему разговора, которой принадлежат эти кластеры"
   ]
  },
  {
   "cell_type": "code",
   "execution_count": null,
   "metadata": {
    "collapsed": true
   },
   "outputs": [],
   "source": []
  },
  {
   "cell_type": "markdown",
   "metadata": {
    "collapsed": true
   },
   "source": [
    "8) Можем ли мы предсказать, был ли платеж после разговора с гидом, основываясь только на word2vec признаках?\n",
    "- Возьмите среднее векторное представление по каждому тексту и используйте его для тренировки модели с таргетом 'target_3_days'\n",
    "- А что, если добавить информацию о гиде? У какой модели лучше результаты?"
   ]
  },
  {
   "cell_type": "code",
   "execution_count": null,
   "metadata": {
    "collapsed": true
   },
   "outputs": [],
   "source": []
  },
  {
   "cell_type": "markdown",
   "metadata": {},
   "source": [
    "**Финальные вопросы: что отличает хорошего гида от плохого? Какие дополнительные данные помогли бы ответить на этот вопрос?**"
   ]
  }
 ],
 "metadata": {
  "hide_input": false,
  "kernelspec": {
   "display_name": "Python 3",
   "language": "python",
   "name": "python3"
  },
  "language_info": {
   "codemirror_mode": {
    "name": "ipython",
    "version": 3
   },
   "file_extension": ".py",
   "mimetype": "text/x-python",
   "name": "python",
   "nbconvert_exporter": "python",
   "pygments_lexer": "ipython3",
   "version": "3.6.5"
  },
  "toc": {
   "base_numbering": 1,
   "nav_menu": {},
   "number_sections": true,
   "sideBar": true,
   "skip_h1_title": false,
   "title_cell": "Table of Contents",
   "title_sidebar": "Contents",
   "toc_cell": false,
   "toc_position": {},
   "toc_section_display": true,
   "toc_window_display": false
  }
 },
 "nbformat": 4,
 "nbformat_minor": 2
}
