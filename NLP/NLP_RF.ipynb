{
 "cells": [
  {
   "cell_type": "code",
   "execution_count": 1,
   "metadata": {
    "collapsed": true
   },
   "outputs": [],
   "source": [
    "import pandas as pd\n",
    "import numpy as np\n",
    "from sklearn.ensemble import RandomForestClassifier\n",
    "import pickle\n",
    "from sklearn.model_selection import train_test_split\n",
    "import matplotlib.pyplot as plt\n",
    "from sklearn import metrics\n",
    "%matplotlib inline"
   ]
  },
  {
   "cell_type": "code",
   "execution_count": 2,
   "metadata": {
    "collapsed": true
   },
   "outputs": [],
   "source": [
    "with open('matrices.pkl', 'rb') as f:\n",
    "    data = pickle.load(f)"
   ]
  },
  {
   "cell_type": "code",
   "execution_count": 3,
   "metadata": {
    "collapsed": true
   },
   "outputs": [],
   "source": [
    "X = list()\n",
    "y = list()\n",
    "\n",
    "for i in range(round(len(data))):\n",
    "    X.append(data[i][0])\n",
    "    y.append(data[i][1])"
   ]
  },
  {
   "cell_type": "code",
   "execution_count": 4,
   "metadata": {
    "collapsed": true
   },
   "outputs": [],
   "source": [
    "#sample random model\n",
    "model = RandomForestClassifier(n_estimators=100,random_state=1)"
   ]
  },
  {
   "cell_type": "code",
   "execution_count": 31,
   "metadata": {
    "collapsed": true
   },
   "outputs": [],
   "source": [
    "X_train, X_test, y_train, y_test = train_test_split(X,y, test_size=0.1,random_state=5)"
   ]
  },
  {
   "cell_type": "code",
   "execution_count": 6,
   "metadata": {},
   "outputs": [
    {
     "data": {
      "text/plain": [
       "RandomForestClassifier(bootstrap=True, class_weight=None, criterion='gini',\n",
       "            max_depth=None, max_features='auto', max_leaf_nodes=None,\n",
       "            min_impurity_split=1e-07, min_samples_leaf=1,\n",
       "            min_samples_split=2, min_weight_fraction_leaf=0.0,\n",
       "            n_estimators=100, n_jobs=1, oob_score=False, random_state=1,\n",
       "            verbose=0, warm_start=False)"
      ]
     },
     "execution_count": 6,
     "metadata": {},
     "output_type": "execute_result"
    }
   ],
   "source": [
    "model.fit(X_train,y_train)"
   ]
  },
  {
   "cell_type": "code",
   "execution_count": 7,
   "metadata": {},
   "outputs": [
    {
     "name": "stdout",
     "output_type": "stream",
     "text": [
      "0.828422206461\n"
     ]
    }
   ],
   "source": [
    "predicted = model.predict(X_test)\n",
    "print(\"Accuracy\",model.score(X_test,y_test))\n",
    "print(\"Metrics\",metrics.classification_report(predicted,y_test))"
   ]
  },
  {
   "cell_type": "markdown",
   "metadata": {},
   "source": [
    "## Brute force of parameters"
   ]
  },
  {
   "cell_type": "code",
   "execution_count": 8,
   "metadata": {},
   "outputs": [
    {
     "name": "stdout",
     "output_type": "stream",
     "text": [
      "Trees  10\n",
      "Score 0.812818363531\n",
      "Trees  20\n",
      "Score 0.821007157135\n",
      "Trees  50\n",
      "Score 0.827132632665\n",
      "Trees  70\n",
      "Score 0.82861564253\n",
      "Trees  90\n",
      "Score 0.828422206461\n",
      "Trees  100\n",
      "Score 0.828035334322\n",
      "Trees  150\n",
      "Score 0.830163131085\n"
     ]
    },
    {
     "data": {
      "text/plain": [
       "<matplotlib.axes._subplots.AxesSubplot at 0x7ff3c61ac588>"
      ]
     },
     "execution_count": 8,
     "metadata": {},
     "output_type": "execute_result"
    },
    {
     "data": {
      "image/png": "[encoded data removed]",
      "text/plain": [
       "<matplotlib.figure.Figure at 0x7ff3c61acd68>"
      ]
     },
     "metadata": {},
     "output_type": "display_data"
    }
   ],
   "source": [
    "#trees\n",
    "n_estimators = [10,20,50,70,90,100,150]\n",
    "results = list()\n",
    "for trees in n_estimators:\n",
    "    model = RandomForestClassifier(n_estimators=trees,random_state=5)\n",
    "    model.fit(X_train,y_train)\n",
    "    print(\"Trees \",trees)\n",
    "    print(\"Score\", model.score(X_test,y_test))\n",
    "    results.append(model.score(X_test,y_test))  \n",
    "pd.Series(results,n_estimators).plot()  "
   ]
  },
  {
   "cell_type": "code",
   "execution_count": 9,
   "metadata": {},
   "outputs": [
    {
     "name": "stdout",
     "output_type": "stream",
     "text": [
      "Maximum feature sqrt\n",
      "Score 0.830163131085\n",
      "Maximum feature log2\n",
      "Score 0.827068153975\n"
     ]
    },
    {
     "data": {
      "text/plain": [
       "<matplotlib.axes._subplots.AxesSubplot at 0x7ff3c73cdac8>"
      ]
     },
     "execution_count": 9,
     "metadata": {},
     "output_type": "execute_result"
    },
    {
     "data": {
      "image/png": "[encoded data removed]",
      "text/plain": [
       "<matplotlib.figure.Figure at 0x7ff3c72d1518>"
      ]
     },
     "metadata": {},
     "output_type": "display_data"
    }
   ],
   "source": [
    "#max_features\n",
    "max_features = [\"sqrt\",\"log2\"]\n",
    "results = list()\n",
    "\n",
    "for max_f in max_features:\n",
    "    model = RandomForestClassifier(n_estimators=150, max_features = max_f,random_state=5)\n",
    "    model.fit(X_train,y_train)\n",
    "    print(\"Maximum feature\", max_f)\n",
    "    print(\"Score\",model.score(X_test,y_test))\n",
    "    results.append(model.score(X_test,y_test))\n",
    "pd.Series(results,max_features).plot(kind='bar')    "
   ]
  },
  {
   "cell_type": "code",
   "execution_count": 10,
   "metadata": {},
   "outputs": [
    {
     "name": "stdout",
     "output_type": "stream",
     "text": [
      "depth  1\n",
      "Score 0.591591978851\n",
      "depth  3\n",
      "Score 0.594493519892\n",
      "depth  5\n",
      "Score 0.618544071184\n",
      "depth  7\n",
      "Score 0.640015474886\n",
      "depth  10\n",
      "Score 0.668579534464\n",
      "depth  20\n",
      "Score 0.738732348959\n",
      "depth  30\n",
      "Score 0.784447740022\n",
      "depth  40\n",
      "Score 0.805596750274\n",
      "depth  50\n",
      "Score 0.814494809465\n",
      "depth  60\n",
      "Score 0.820297891547\n",
      "depth  80\n",
      "Score 0.8256496228\n",
      "depth  100\n",
      "Score 0.826036494938\n"
     ]
    },
    {
     "data": {
      "text/plain": [
       "<matplotlib.axes._subplots.AxesSubplot at 0x7ff3c72e9a90>"
      ]
     },
     "execution_count": 10,
     "metadata": {},
     "output_type": "execute_result"
    },
    {
     "data": {
      "image/png": "[encoded data removed]",
      "text/plain": [
       "<matplotlib.figure.Figure at 0x7ff3c71e8d30>"
      ]
     },
     "metadata": {},
     "output_type": "display_data"
    }
   ],
   "source": [
    "#max_depth\n",
    "max_depth = [1,3,5,7,10,20,30,40,50,60,80,100]\n",
    "results = list()\n",
    "\n",
    "for max_d in max_depth:\n",
    "    model = RandomForestClassifier(n_estimators=150,max_features=\"sqrt\", max_depth = max_d,random_state = 5)\n",
    "    model.fit(X_train,y_train)\n",
    "    print(\"depth \", max_d)\n",
    "    print(\"Score\",model.score(X_test,y_test))\n",
    "    results.append(model.score(X_test,y_test))\n",
    "pd.Series(results,max_depth).plot()    "
   ]
  },
  {
   "cell_type": "code",
   "execution_count": 11,
   "metadata": {},
   "outputs": [
    {
     "name": "stdout",
     "output_type": "stream",
     "text": [
      "Leaf(s) 1\n",
      "Score 0.8256496228\n",
      "Leaf(s) 2\n",
      "Score 0.815913340641\n",
      "Leaf(s) 3\n",
      "Score 0.805467792894\n",
      "Leaf(s) 4\n",
      "Score 0.799342317364\n",
      "Leaf(s) 5\n",
      "Score 0.792249661487\n"
     ]
    },
    {
     "data": {
      "text/plain": [
       "<matplotlib.axes._subplots.AxesSubplot at 0x7ff3c70df3c8>"
      ]
     },
     "execution_count": 11,
     "metadata": {},
     "output_type": "execute_result"
    },
    {
     "data": {
      "image/png": "[encoded data removed]",
      "text/plain": [
       "<matplotlib.figure.Figure at 0x7ff3c717ac50>"
      ]
     },
     "metadata": {},
     "output_type": "display_data"
    }
   ],
   "source": [
    "#min_samples_leaf\n",
    "min_samples_leaf = [1,2,3,4,5]\n",
    "results = list()\n",
    "for min_s in min_samples_leaf:\n",
    "    model = RandomForestClassifier(n_estimators=150,max_features=\"sqrt\",max_depth=80,min_samples_leaf=min_s,random_state=5)\n",
    "    model.fit(X_train,y_train)\n",
    "    print(\"Leaf(s)\",min_s)\n",
    "    print(\"Score\",model.score(X_test,y_test))\n",
    "    results.append(model.score(X_test,y_test))\n",
    "pd.Series(results,min_samples_leaf).plot()    "
   ]
  },
  {
   "cell_type": "code",
   "execution_count": 34,
   "metadata": {},
   "outputs": [
    {
     "data": {
      "text/plain": [
       "RandomForestClassifier(bootstrap=True, class_weight=None, criterion='entropy',\n",
       "            max_depth=80, max_features='sqrt', max_leaf_nodes=None,\n",
       "            min_impurity_split=1e-07, min_samples_leaf=1,\n",
       "            min_samples_split=2, min_weight_fraction_leaf=0.0,\n",
       "            n_estimators=150, n_jobs=1, oob_score=False, random_state=5,\n",
       "            verbose=0, warm_start=False)"
      ]
     },
     "execution_count": 34,
     "metadata": {},
     "output_type": "execute_result"
    }
   ],
   "source": [
    "#final model\n",
    "model = RandomForestClassifier(n_estimators=150,\n",
    "                               max_features='sqrt',\n",
    "                               criterion='entropy',\n",
    "                               max_depth=80,\n",
    "                               min_samples_leaf=1,\n",
    "                               random_state=5)\n",
    "model.fit(X_train,y_train)"
   ]
  },
  {
   "cell_type": "code",
   "execution_count": 35,
   "metadata": {},
   "outputs": [
    {
     "name": "stdout",
     "output_type": "stream",
     "text": [
      "Accuracy 0.825789813024\n",
      "Metrics              precision    recall  f1-score   support\n",
      "\n",
      "         -1       0.55      0.89      0.68       360\n",
      "          0       0.92      0.81      0.86      5177\n",
      "          1       0.72      0.85      0.78      2218\n",
      "\n",
      "avg / total       0.85      0.83      0.83      7755\n",
      "\n"
     ]
    }
   ],
   "source": [
    "predicted = model.predict(X_test)\n",
    "print(\"Accuracy\",model.score(X_test,y_test))\n",
    "print(\"Metrics\",metrics.classification_report(predicted,y_test))"
   ]
  },
  {
   "cell_type": "code",
   "execution_count": 33,
   "metadata": {},
   "outputs": [
    {
     "name": "stdout",
     "output_type": "stream",
     "text": [
      "Accuracy 0.826047711154\n",
      "Metrics              precision    recall  f1-score   support\n",
      "\n",
      "         -1       0.55      0.89      0.68       363\n",
      "          0       0.92      0.81      0.86      5183\n",
      "          1       0.72      0.85      0.78      2209\n",
      "\n",
      "avg / total       0.85      0.83      0.83      7755\n",
      "\n"
     ]
    }
   ],
   "source": [
    "predicted = model.predict(X_test)\n",
    "print(\"Accuracy\",model.score(X_test,y_test))\n",
    "print(\"Metrics\",metrics.classification_report(predicted,y_test))"
   ]
  }
 ],
 "metadata": {
  "kernelspec": {
   "display_name": "Python 3",
   "language": "python",
   "name": "python3"
  },
  "language_info": {
   "codemirror_mode": {
    "name": "ipython",
    "version": 3
   },
   "file_extension": ".py",
   "mimetype": "text/x-python",
   "name": "python",
   "nbconvert_exporter": "python",
   "pygments_lexer": "ipython3",
   "version": "3.6.1"
  }
 },
 "nbformat": 4,
 "nbformat_minor": 2
}
