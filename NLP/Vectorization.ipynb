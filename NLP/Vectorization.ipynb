{
 "cells": [
  {
   "cell_type": "code",
   "execution_count": 24,
   "metadata": {
    "collapsed": true
   },
   "outputs": [],
   "source": [
    "import numpy as np\n",
    "import json\n",
    "import operator\n",
    "import pickle"
   ]
  },
  {
   "cell_type": "code",
   "execution_count": 25,
   "metadata": {
    "collapsed": true
   },
   "outputs": [],
   "source": [
    "with open(\"Sample_Output.json\") as data_file:\n",
    "    data = json.loads(data_file.read())"
   ]
  },
  {
   "cell_type": "code",
   "execution_count": 26,
   "metadata": {
    "collapsed": true
   },
   "outputs": [],
   "source": [
    "word_index = dict()\n",
    "# check appearence of the word in our text then build dictionary\n",
    "for sentence in data:\n",
    "    for word in sentence[\"text\"]:\n",
    "        if word not in word_index:\n",
    "            word_index[word] = 0\n",
    "        else:\n",
    "            word_index[word] +=1"
   ]
  },
  {
   "cell_type": "code",
   "execution_count": 27,
   "metadata": {
    "collapsed": true
   },
   "outputs": [],
   "source": [
    "#sort our dictionary dy ascending order\n",
    "sorted_words = sorted(word_index.items(), key = operator.itemgetter(1), reverse = True)"
   ]
  },
  {
   "cell_type": "code",
   "execution_count": 28,
   "metadata": {},
   "outputs": [],
   "source": [
    "#build matrices\n",
    "matrices = np.zeros(shape=(len(data), 5000))\n",
    "i = 0\n",
    "vocabulary = dict()\n",
    "for i in range(0,len(sorted_words)):\n",
    "    vocabulary[sorted_words[i][0]] = i"
   ]
  },
  {
   "cell_type": "code",
   "execution_count": 29,
   "metadata": {
    "collapsed": true
   },
   "outputs": [],
   "source": [
    "# vectorization\n",
    "i = 0\n",
    "for sentence in data:\n",
    "    for word in sentence[\"text\"]:\n",
    "        if word in vocabulary:\n",
    "            if matrices[i, vocabulary[word]] == 0:\n",
    "                matrices[i, vocabulary[word]] = 1\n",
    "            else:\n",
    "                matrices[i, vocabulary[word]] += 1\n",
    "    i += 1"
   ]
  },
  {
   "cell_type": "code",
   "execution_count": 30,
   "metadata": {
    "collapsed": true
   },
   "outputs": [],
   "source": [
    "# vectorization with concatination of sentiment\n",
    "final_result = list()\n",
    "sentiment = 0\n",
    "for i in range(0, len(matrices)):\n",
    "    if data[i][\"manual_sentiment\"] == \"neutral\":\n",
    "        sentiment = 0\n",
    "    elif data[i][\"manual_sentiment\"] == \"positive\":\n",
    "        sentiment = 1\n",
    "    else:\n",
    "        sentiment = -1\n",
    "    final_result.append((matrices[i], sentiment))\n"
   ]
  },
  {
   "cell_type": "code",
   "execution_count": 31,
   "metadata": {
    "collapsed": true
   },
   "outputs": [],
   "source": [
    "# write to pickle format to save our matrices\n",
    "with open('Sample_Matrices.pkl', 'wb') as f:\n",
    "    pickle.dump(final_result,f)"
   ]
  }
 ],
 "metadata": {
  "kernelspec": {
   "display_name": "Python 3",
   "language": "python",
   "name": "python3"
  },
  "language_info": {
   "codemirror_mode": {
    "name": "ipython",
    "version": 3
   },
   "file_extension": ".py",
   "mimetype": "text/x-python",
   "name": "python",
   "nbconvert_exporter": "python",
   "pygments_lexer": "ipython3",
   "version": "3.6.1"
  }
 },
 "nbformat": 4,
 "nbformat_minor": 2
}
